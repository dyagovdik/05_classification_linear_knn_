{
 "cells": [
  {
   "cell_type": "markdown",
   "metadata": {},
   "source": [
    "# Classification. Linear models and KNN"
   ]
  },
  {
   "cell_type": "code",
   "execution_count": 463,
   "metadata": {},
   "outputs": [],
   "source": [
    "import os\n",
    "import numpy as np\n",
    "import pandas as pd\n",
    "import seaborn as sns\n",
    "import matplotlib.pyplot as plt"
   ]
  },
  {
   "cell_type": "code",
   "execution_count": 464,
   "metadata": {},
   "outputs": [],
   "source": [
    "from sklearn.pipeline import Pipeline\n",
    "from sklearn.compose import ColumnTransformer\n",
    "from sklearn.model_selection import train_test_split, cross_validate, GridSearchCV, validation_curve, RandomizedSearchCV, KFold, cross_val_score\n",
    "from sklearn.metrics import plot_confusion_matrix, accuracy_score\n",
    "from sklearn.neighbors import KNeighborsClassifier\n",
    "from sklearn.preprocessing import StandardScaler\n",
    "from sklearn.linear_model import LogisticRegression\n",
    "from sklearn.preprocessing import StandardScaler, OneHotEncoder, LabelEncoder, MinMaxScaler\n"
   ]
  },
  {
   "cell_type": "markdown",
   "metadata": {},
   "source": [
    "## Part 1: Implementing Logistic Regression"
   ]
  },
  {
   "cell_type": "markdown",
   "metadata": {},
   "source": [
    "In this task you need to implement Logistic Regression with l2 regularization using gradient descent algorithm."
   ]
  },
  {
   "cell_type": "markdown",
   "metadata": {},
   "source": [
    "Logistic Regression loss:\n",
    "$$ L(w) = \\dfrac{1}{N}\\sum_{i=1}^N \\log(1 + e^{-\\langle w, x_i \\rangle y_i}) + \\frac{1}{2C} \\lVert w \\rVert^2  \\to \\min_w$$\n",
    "$$\\langle w, x_i \\rangle = \\sum_{j=1}^n w_{j}x_{ij} + w_{0},$$ $$ y_{i} \\in \\{-1, 1\\}$$ where $n$ is the number of features and $N$ is the number of samples."
   ]
  },
  {
   "cell_type": "markdown",
   "metadata": {},
   "source": [
    "Gradient descent step:\n",
    "$$w^{(t+1)} := w^{(t)} + \\dfrac{\\eta}{N}\\sum_{i=1}^N y_ix_i \\Big(1 - \\dfrac{1}{1 + exp(-\\langle w^{(t)}, x_i \\rangle y_i)}\\Big) - \\eta \\frac{1}{C} w,$$\n",
    "where $\\eta$ is the learning rate."
   ]
  },
  {
   "cell_type": "markdown",
   "metadata": {},
   "source": [
    "**(2 points)** Implement the algorithm and use it to classify the digits (https://scikit-learn.org/stable/modules/generated/sklearn.datasets.load_digits.html) into \"even\" and \"odd\" categories. \"Even\" and \"Odd\" classes  should correspond to {-1, 1} labels."
   ]
  },
  {
   "cell_type": "markdown",
   "metadata": {},
   "source": [
    "Stopping criteria: either the number of iterations exceeds *max_iter* or $||w^{(t+1)} - w^{(t)}||_2 < tol$."
   ]
  },
  {
   "cell_type": "code",
   "execution_count": 465,
   "metadata": {},
   "outputs": [],
   "source": [
    "from sklearn.exceptions import NotFittedError"
   ]
  },
  {
   "cell_type": "code",
   "execution_count": 554,
   "metadata": {},
   "outputs": [],
   "source": [
    "class CustomLogisticRegression:\n",
    "    _estimator_type = \"classifier\"\n",
    "    \n",
    "    def __init__(self, eta=0.001, max_iter=1000, C=1.0, tol=1e-5, random_state=42, zero_init=False):\n",
    "        \"\"\"Logistic Regression classifier.\n",
    "        \n",
    "        Args:\n",
    "            eta: float, default=0.001\n",
    "                Learning rate.\n",
    "            max_iter: int, default=1000\n",
    "                Maximum number of iterations taken for the solvers to converge.\n",
    "            C: float, default=1.0\n",
    "                Inverse of regularization strength; must be a positive float.\n",
    "                Smaller values specify stronger regularization.\n",
    "            tol: float, default=1e-5\n",
    "                Tolerance for stopping criteria.\n",
    "            random_state: int, default=42\n",
    "                Random state.\n",
    "            zero_init: bool, default=False\n",
    "                Zero weight initialization.\n",
    "        \"\"\"\n",
    "        self.eta = eta\n",
    "        self.max_iter = max_iter\n",
    "        self.C = C\n",
    "        self.tol = tol\n",
    "        self.random_state = np.random.RandomState(seed=random_state)\n",
    "        self.zero_init = zero_init\n",
    "         \n",
    "    def get_sigmoid(self, X, weights):\n",
    "        \"\"\"Compute the sigmoid value.\"\"\"\n",
    "        sigmoid = []\n",
    "        for i in range(X.shape[0]):\n",
    "            sigmoid.append(1 / (1 + np.exp(-np.dot(weights, X[i]))))\n",
    "        return sigmoid\n",
    "\n",
    "    def get_loss(self, x, weights, y):\n",
    "        \"\"\"Calculate the loss.\"\"\"\n",
    "        X_ext = np.hstack([np.ones((x.shape[0], 1)), x])\n",
    "        sum = 0\n",
    "        for i in range(X_ext.shape[0]):\n",
    "            sum += np.log(1 + np.exp(-np.dot(self.weights_, X_ext[i]) * y[i])) + (np.linalg.norm(weights) ** 2) / (2 * self.C)\n",
    "        return sum / X_ext.shape[0]\n",
    "     \n",
    "    def fit(self, X, y):\n",
    "        \"\"\"Fit the model.\n",
    "        \n",
    "        Args:\n",
    "            X: numpy array of shape (n_samples, n_features)\n",
    "            y: numpy array of shape (n_samples,)\n",
    "                Target vector.        \n",
    "        \"\"\"\n",
    "        X_ext = np.hstack([np.ones((X.shape[0], 1)), X]) # a constant feature is included to handle intercept\n",
    "        num_features = X_ext.shape[1]\n",
    "        if self.zero_init:\n",
    "            self.weights_ = np.zeros(num_features)\n",
    "        else:\n",
    "            weight_threshold = 1.0 / (2 * num_features)\n",
    "            self.weights_ = self.random_state.uniform(low=-weight_threshold,\n",
    "                                                      high=weight_threshold, size=num_features) # random weight initialization\n",
    "        self.loss = []\n",
    "\n",
    "        for i in range(self.max_iter):\n",
    "            sum = np.zeros(num_features)\n",
    "            for j in range(X_ext.shape[0]):\n",
    "                sum += y[j] * X_ext[j] * (1 - (1 / (1 + np.exp(-np.dot(self.weights_, X_ext[j]) * y[j]))))\n",
    "            sum /= X_ext.shape[0]\n",
    "            delta = -sum + self.weights_ / self.C\n",
    "            self.weights_ -= self.eta * delta\n",
    "            self.loss.append(self.get_loss(X, self.weights_, y))\n",
    "            if np.linalg.norm(delta) < self.tol:\n",
    "                break\n",
    "     \n",
    "    def predict_proba(self, X):\n",
    "        \"\"\"Predict positive class probabilities.\n",
    "        \n",
    "        Args:\n",
    "            X: numpy array of shape (n_samples, n_features)\n",
    "        Returns:\n",
    "            y: numpy array of shape (n_samples,)\n",
    "                Vector containing positive class probabilities.\n",
    "        \"\"\"\n",
    "        X_ext = np.hstack([np.ones((X.shape[0], 1)), X])\n",
    "        if hasattr(self, 'weights_'):\n",
    "            return self.get_sigmoid(X_ext, self.weights_)\n",
    "        else: \n",
    "            raise NotFittedError(\"CustomLogisticRegression instance is not fitted yet\")\n",
    "    \n",
    "    def predict(self, X):\n",
    "        \"\"\"Predict classes.\n",
    "        \n",
    "        Args:\n",
    "            X: numpy array of shape (n_samples, n_features)\n",
    "        Returns:\n",
    "            y: numpy array of shape (n_samples,)\n",
    "                Vector containing predicted class labels.\n",
    "        \"\"\"\n",
    "        X_ext = np.hstack([np.ones((X.shape[0], 1)), X])\n",
    "        y = []\n",
    "        for i in range(X.shape[0]):\n",
    "            y.append(np.sign(np.dot(self.weights_, X_ext[i])))\n",
    "        return y"
   ]
  },
  {
   "cell_type": "code",
   "execution_count": 555,
   "metadata": {},
   "outputs": [],
   "source": [
    "from sklearn import datasets\n",
    "from sklearn import metrics"
   ]
  },
  {
   "cell_type": "code",
   "execution_count": 556,
   "metadata": {},
   "outputs": [
    {
     "data": {
      "image/png": "[encoded data removed]",
      "text/plain": [
       "<Figure size 720x360 with 21 Axes>"
      ]
     },
     "metadata": {
      "needs_background": "light"
     },
     "output_type": "display_data"
    }
   ],
   "source": [
    "X, y = datasets.load_digits(n_class=10, return_X_y=True)\n",
    "\n",
    "_, axes = plt.subplots(nrows=3, ncols=7, figsize=(10, 5))\n",
    "for ax, image, label in zip(axes.flatten(), X, y):\n",
    "    ax.set_axis_off()\n",
    "    ax.imshow(image.reshape((8, 8)), cmap=plt.cm.gray_r if label % 2 else plt.cm.afmhot_r)\n",
    "    ax.set_title(label)\n",
    "\n",
    "X_train, X_test, y_train, y_test = train_test_split(X, y, test_size=0.2, shuffle=True, random_state=42)\n",
    "\n",
    "y_train = (y_train % 2) * 2 - 1\n",
    "y_test = (y_test % 2) * 2 - 1"
   ]
  },
  {
   "cell_type": "code",
   "execution_count": 557,
   "metadata": {},
   "outputs": [],
   "source": [
    "assert (np.unique(y_train) == [-1, 1]).all()\n",
    "assert (np.unique(y_test) == [-1, 1]).all()"
   ]
  },
  {
   "cell_type": "code",
   "execution_count": 558,
   "metadata": {},
   "outputs": [],
   "source": [
    "def fit_evaluate(clf, X_train, y_train, X_test, y_test):\n",
    "    clf.fit(X_train, y_train)\n",
    "    disp = metrics.plot_confusion_matrix(clf, X_test, y_test, normalize='true')\n",
    "    disp.figure_.suptitle(\"Confusion Matrix\")\n",
    "    plt.show()\n",
    "    \n",
    "    return metrics.accuracy_score(y_pred=clf.predict(X_train), y_true=y_train), \\\n",
    "           metrics.accuracy_score(y_pred=clf.predict(X_test), y_true=y_test)"
   ]
  },
  {
   "cell_type": "code",
   "execution_count": 559,
   "metadata": {},
   "outputs": [],
   "source": [
    "lr_clf = CustomLogisticRegression(max_iter=1, zero_init=True)"
   ]
  },
  {
   "cell_type": "code",
   "execution_count": 560,
   "metadata": {},
   "outputs": [],
   "source": [
    "assert np.allclose(lr_clf.get_sigmoid(np.array([[0.5, 0, 1.0], [0.3, 1.3, 1.0]]), np.array([0.5, -0.5, 0.1])),\n",
    "                   np.array([0.58662, 0.40131]))"
   ]
  },
  {
   "cell_type": "code",
   "execution_count": 561,
   "metadata": {},
   "outputs": [],
   "source": [
    "lr_clf.fit(X_train, y_train)"
   ]
  },
  {
   "cell_type": "code",
   "execution_count": 562,
   "metadata": {},
   "outputs": [],
   "source": [
    "assert np.allclose(lr_clf.weights_, np.array([ 3.1000e-06,  0.0000e+00,  4.1800e-05,  5.4770e-04,  2.2130e-04,\n",
    "        4.8750e-04,  1.3577e-03,  5.9780e-04,  5.6400e-05, -7.0000e-07,\n",
    "        1.6910e-04,  2.5190e-04, -4.3700e-04,  3.6190e-04,  1.0049e-03,\n",
    "        4.2280e-04,  2.5700e-05,  3.0000e-07, -1.1500e-05, -7.2440e-04,\n",
    "       -2.6200e-04,  8.7540e-04,  4.1540e-04, -8.4200e-05, -5.2000e-06,\n",
    "        0.0000e+00, -2.2160e-04, -5.7130e-04,  9.8570e-04,  1.3507e-03,\n",
    "        5.0210e-04, -1.7050e-04, -1.0000e-06,  0.0000e+00, -6.7810e-04,\n",
    "       -1.0515e-03, -4.4500e-05,  3.7160e-04,  4.2100e-04, -8.1800e-05,\n",
    "        0.0000e+00, -5.2000e-06, -5.3410e-04, -2.0393e-03, -8.4310e-04,\n",
    "        1.0400e-04, -1.2390e-04, -1.7880e-04, -1.3200e-05, -4.5000e-06,\n",
    "       -9.4300e-05, -1.1127e-03, -5.0900e-04, -2.1850e-04, -5.6050e-04,\n",
    "       -3.9560e-04, -1.7700e-05, -3.0000e-07,  2.6800e-05,  6.3920e-04,\n",
    "        1.8090e-04, -7.3660e-04, -5.3930e-04, -3.7060e-04, -2.8200e-05]), atol=1e-5)"
   ]
  },
  {
   "cell_type": "code",
   "execution_count": 563,
   "metadata": {},
   "outputs": [],
   "source": [
    "model = CustomLogisticRegression()"
   ]
  },
  {
   "cell_type": "code",
   "execution_count": 564,
   "metadata": {},
   "outputs": [
    {
     "name": "stderr",
     "output_type": "stream",
     "text": [
      "C:\\Users\\HP\\AppData\\Local\\Programs\\Python\\Python39\\lib\\site-packages\\sklearn\\utils\\deprecation.py:87: FutureWarning: Function plot_confusion_matrix is deprecated; Function `plot_confusion_matrix` is deprecated in 1.0 and will be removed in 1.2. Use one of the class methods: ConfusionMatrixDisplay.from_predictions or ConfusionMatrixDisplay.from_estimator.\n",
      "  warnings.warn(msg, category=FutureWarning)\n"
     ]
    },
    {
     "data": {
      "image/png": "[encoded data removed]",
      "text/plain": [
       "<Figure size 432x288 with 2 Axes>"
      ]
     },
     "metadata": {
      "needs_background": "light"
     },
     "output_type": "display_data"
    }
   ],
   "source": [
    "train_acc, test_acc = fit_evaluate(model, X_train, y_train, X_test, y_test)"
   ]
  },
  {
   "cell_type": "code",
   "execution_count": 565,
   "metadata": {},
   "outputs": [
    {
     "data": {
      "text/plain": [
       "(0.9109255393180237, 0.9388888888888889)"
      ]
     },
     "execution_count": 565,
     "metadata": {},
     "output_type": "execute_result"
    }
   ],
   "source": [
    "train_acc, test_acc"
   ]
  },
  {
   "cell_type": "code",
   "execution_count": 566,
   "metadata": {},
   "outputs": [],
   "source": [
    "assert min(train_acc, test_acc) > 0.9"
   ]
  },
  {
   "cell_type": "markdown",
   "metadata": {},
   "source": [
    "**(0.5 points)** Visualize the loss history."
   ]
  },
  {
   "cell_type": "code",
   "execution_count": 568,
   "metadata": {},
   "outputs": [
    {
     "data": {
      "image/png": "[encoded data removed]",
      "text/plain": [
       "<Figure size 432x288 with 1 Axes>"
      ]
     },
     "metadata": {
      "needs_background": "light"
     },
     "output_type": "display_data"
    }
   ],
   "source": [
    "plt.plot(model.loss);"
   ]
  },
  {
   "cell_type": "markdown",
   "metadata": {},
   "source": [
    "**(0.5 points)** Try different learning rates and compare the results. How does the learning rate influence the convergence?"
   ]
  },
  {
   "cell_type": "code",
   "execution_count": 581,
   "metadata": {},
   "outputs": [
    {
     "name": "stderr",
     "output_type": "stream",
     "text": [
      "C:\\Users\\HP\\AppData\\Local\\Programs\\Python\\Python39\\lib\\site-packages\\sklearn\\utils\\deprecation.py:87: FutureWarning: Function plot_confusion_matrix is deprecated; Function `plot_confusion_matrix` is deprecated in 1.0 and will be removed in 1.2. Use one of the class methods: ConfusionMatrixDisplay.from_predictions or ConfusionMatrixDisplay.from_estimator.\n",
      "  warnings.warn(msg, category=FutureWarning)\n"
     ]
    },
    {
     "data": {
      "image/png": "[encoded data removed]",
      "text/plain": [
       "<Figure size 432x288 with 2 Axes>"
      ]
     },
     "metadata": {
      "needs_background": "light"
     },
     "output_type": "display_data"
    },
    {
     "data": {
      "text/plain": [
       "(0.848990953375087, 0.8777777777777778)"
      ]
     },
     "execution_count": 581,
     "metadata": {},
     "output_type": "execute_result"
    }
   ],
   "source": [
    "graph1 = CustomLogisticRegression(eta=0.00001)\n",
    "fit_evaluate(graph1, X_train, y_train, X_test, y_test)"
   ]
  },
  {
   "cell_type": "code",
   "execution_count": 582,
   "metadata": {},
   "outputs": [
    {
     "name": "stderr",
     "output_type": "stream",
     "text": [
      "C:\\Users\\HP\\AppData\\Local\\Programs\\Python\\Python39\\lib\\site-packages\\sklearn\\utils\\deprecation.py:87: FutureWarning: Function plot_confusion_matrix is deprecated; Function `plot_confusion_matrix` is deprecated in 1.0 and will be removed in 1.2. Use one of the class methods: ConfusionMatrixDisplay.from_predictions or ConfusionMatrixDisplay.from_estimator.\n",
      "  warnings.warn(msg, category=FutureWarning)\n"
     ]
    },
    {
     "data": {
      "image/png": "[encoded data removed]",
      "text/plain": [
       "<Figure size 432x288 with 2 Axes>"
      ]
     },
     "metadata": {
      "needs_background": "light"
     },
     "output_type": "display_data"
    },
    {
     "data": {
      "text/plain": [
       "(0.9109255393180237, 0.9388888888888889)"
      ]
     },
     "execution_count": 582,
     "metadata": {},
     "output_type": "execute_result"
    }
   ],
   "source": [
    "graph2 = CustomLogisticRegression(eta=0.001)\n",
    "fit_evaluate(graph2, X_train, y_train, X_test, y_test)"
   ]
  },
  {
   "cell_type": "code",
   "execution_count": 583,
   "metadata": {},
   "outputs": [
    {
     "name": "stderr",
     "output_type": "stream",
     "text": [
      "C:\\Users\\HP\\AppData\\Local\\Programs\\Python\\Python39\\lib\\site-packages\\sklearn\\utils\\deprecation.py:87: FutureWarning: Function plot_confusion_matrix is deprecated; Function `plot_confusion_matrix` is deprecated in 1.0 and will be removed in 1.2. Use one of the class methods: ConfusionMatrixDisplay.from_predictions or ConfusionMatrixDisplay.from_estimator.\n",
      "  warnings.warn(msg, category=FutureWarning)\n"
     ]
    },
    {
     "data": {
      "image/png": "[encoded data removed]",
      "text/plain": [
       "<Figure size 432x288 with 2 Axes>"
      ]
     },
     "metadata": {
      "needs_background": "light"
     },
     "output_type": "display_data"
    },
    {
     "data": {
      "text/plain": [
       "(0.7731384829505915, 0.7527777777777778)"
      ]
     },
     "execution_count": 583,
     "metadata": {},
     "output_type": "execute_result"
    }
   ],
   "source": [
    "graph3 = CustomLogisticRegression(eta=0.01)\n",
    "fit_evaluate(graph3, X_train, y_train, X_test, y_test)"
   ]
  },
  {
   "cell_type": "code",
   "execution_count": 584,
   "metadata": {},
   "outputs": [
    {
     "name": "stderr",
     "output_type": "stream",
     "text": [
      "C:\\Users\\HP\\AppData\\Local\\Programs\\Python\\Python39\\lib\\site-packages\\sklearn\\utils\\deprecation.py:87: FutureWarning: Function plot_confusion_matrix is deprecated; Function `plot_confusion_matrix` is deprecated in 1.0 and will be removed in 1.2. Use one of the class methods: ConfusionMatrixDisplay.from_predictions or ConfusionMatrixDisplay.from_estimator.\n",
      "  warnings.warn(msg, category=FutureWarning)\n"
     ]
    },
    {
     "data": {
      "image/png": "[encoded data removed]",
      "text/plain": [
       "<Figure size 432x288 with 2 Axes>"
      ]
     },
     "metadata": {
      "needs_background": "light"
     },
     "output_type": "display_data"
    },
    {
     "data": {
      "text/plain": [
       "(0.5671537926235213, 0.55)"
      ]
     },
     "execution_count": 584,
     "metadata": {},
     "output_type": "execute_result"
    }
   ],
   "source": [
    "graph4 = CustomLogisticRegression(eta=0.05)\n",
    "fit_evaluate(graph4, X_train, y_train, X_test, y_test)"
   ]
  },
  {
   "cell_type": "code",
   "execution_count": 585,
   "metadata": {},
   "outputs": [
    {
     "name": "stderr",
     "output_type": "stream",
     "text": [
      "C:\\Users\\HP\\AppData\\Local\\Programs\\Python\\Python39\\lib\\site-packages\\sklearn\\utils\\deprecation.py:87: FutureWarning: Function plot_confusion_matrix is deprecated; Function `plot_confusion_matrix` is deprecated in 1.0 and will be removed in 1.2. Use one of the class methods: ConfusionMatrixDisplay.from_predictions or ConfusionMatrixDisplay.from_estimator.\n",
      "  warnings.warn(msg, category=FutureWarning)\n"
     ]
    },
    {
     "data": {
      "image/png": "[encoded data removed]",
      "text/plain": [
       "<Figure size 432x288 with 2 Axes>"
      ]
     },
     "metadata": {
      "needs_background": "light"
     },
     "output_type": "display_data"
    },
    {
     "data": {
      "text/plain": [
       "(0.5455810716771051, 0.5277777777777778)"
      ]
     },
     "execution_count": 585,
     "metadata": {},
     "output_type": "execute_result"
    }
   ],
   "source": [
    "graph5 = CustomLogisticRegression(eta=0.1)\n",
    "fit_evaluate(graph5, X_train, y_train, X_test, y_test)"
   ]
  },
  {
   "cell_type": "code",
   "execution_count": 587,
   "metadata": {},
   "outputs": [
    {
     "name": "stderr",
     "output_type": "stream",
     "text": [
      "C:\\Users\\HP\\AppData\\Local\\Temp\\ipykernel_13280\\1213542582.py:41: RuntimeWarning: overflow encountered in exp\n",
      "  sum += np.log(1 + np.exp(-np.dot(self.weights_, X_ext[i]) * y[i])) + (np.linalg.norm(weights) ** 2) / (2 * self.C)\n",
      "C:\\Users\\HP\\AppData\\Local\\Temp\\ipykernel_13280\\1213542582.py:65: RuntimeWarning: overflow encountered in exp\n",
      "  sum += y[j] * X_ext[j] * (1 - (1 / (1 + np.exp(-np.dot(self.weights_, X_ext[j]) * y[j]))))\n",
      "C:\\Users\\HP\\AppData\\Local\\Programs\\Python\\Python39\\lib\\site-packages\\sklearn\\utils\\deprecation.py:87: FutureWarning: Function plot_confusion_matrix is deprecated; Function `plot_confusion_matrix` is deprecated in 1.0 and will be removed in 1.2. Use one of the class methods: ConfusionMatrixDisplay.from_predictions or ConfusionMatrixDisplay.from_estimator.\n",
      "  warnings.warn(msg, category=FutureWarning)\n"
     ]
    },
    {
     "data": {
      "image/png": "[encoded data removed]",
      "text/plain": [
       "<Figure size 432x288 with 2 Axes>"
      ]
     },
     "metadata": {
      "needs_background": "light"
     },
     "output_type": "display_data"
    },
    {
     "data": {
      "text/plain": [
       "(0.4968684759916493, 0.49166666666666664)"
      ]
     },
     "execution_count": 587,
     "metadata": {},
     "output_type": "execute_result"
    }
   ],
   "source": [
    "graph6 = CustomLogisticRegression(eta=1)\n",
    "fit_evaluate(graph6, X_train, y_train, X_test, y_test)"
   ]
  },
  {
   "cell_type": "markdown",
   "metadata": {},
   "source": [
    "При наименьшей скорости предсказания лучше, но нам потребуется и больше времени на обучение и вычислительных мощностей."
   ]
  },
  {
   "cell_type": "markdown",
   "metadata": {},
   "source": []
  },
  {
   "cell_type": "markdown",
   "metadata": {},
   "source": [
    "**(0.5 points)** Try different regularization parameter values and compare the model quality."
   ]
  },
  {
   "cell_type": "code",
   "execution_count": 596,
   "metadata": {},
   "outputs": [
    {
     "name": "stderr",
     "output_type": "stream",
     "text": [
      "C:\\Users\\HP\\AppData\\Local\\Programs\\Python\\Python39\\lib\\site-packages\\sklearn\\utils\\deprecation.py:87: FutureWarning: Function plot_confusion_matrix is deprecated; Function `plot_confusion_matrix` is deprecated in 1.0 and will be removed in 1.2. Use one of the class methods: ConfusionMatrixDisplay.from_predictions or ConfusionMatrixDisplay.from_estimator.\n",
      "  warnings.warn(msg, category=FutureWarning)\n"
     ]
    },
    {
     "data": {
      "image/png": "[encoded data removed]",
      "text/plain": [
       "<Figure size 432x288 with 2 Axes>"
      ]
     },
     "metadata": {
      "needs_background": "light"
     },
     "output_type": "display_data"
    },
    {
     "data": {
      "text/plain": [
       "(0.8879610299234516, 0.9138888888888889)"
      ]
     },
     "execution_count": 596,
     "metadata": {},
     "output_type": "execute_result"
    }
   ],
   "source": [
    "graph7 = CustomLogisticRegression(C=0.1)\n",
    "fit_evaluate(graph7, X_train, y_train, X_test, y_test)"
   ]
  },
  {
   "cell_type": "code",
   "execution_count": 597,
   "metadata": {},
   "outputs": [
    {
     "name": "stderr",
     "output_type": "stream",
     "text": [
      "C:\\Users\\HP\\AppData\\Local\\Programs\\Python\\Python39\\lib\\site-packages\\sklearn\\utils\\deprecation.py:87: FutureWarning: Function plot_confusion_matrix is deprecated; Function `plot_confusion_matrix` is deprecated in 1.0 and will be removed in 1.2. Use one of the class methods: ConfusionMatrixDisplay.from_predictions or ConfusionMatrixDisplay.from_estimator.\n",
      "  warnings.warn(msg, category=FutureWarning)\n"
     ]
    },
    {
     "data": {
      "image/png": "[encoded data removed]",
      "text/plain": [
       "<Figure size 432x288 with 2 Axes>"
      ]
     },
     "metadata": {
      "needs_background": "light"
     },
     "output_type": "display_data"
    },
    {
     "data": {
      "text/plain": [
       "(0.9109255393180237, 0.9388888888888889)"
      ]
     },
     "execution_count": 597,
     "metadata": {},
     "output_type": "execute_result"
    }
   ],
   "source": [
    "graph8 = CustomLogisticRegression(C=1)\n",
    "fit_evaluate(graph8, X_train, y_train, X_test, y_test)"
   ]
  },
  {
   "cell_type": "code",
   "execution_count": 598,
   "metadata": {},
   "outputs": [
    {
     "name": "stderr",
     "output_type": "stream",
     "text": [
      "C:\\Users\\HP\\AppData\\Local\\Programs\\Python\\Python39\\lib\\site-packages\\sklearn\\utils\\deprecation.py:87: FutureWarning: Function plot_confusion_matrix is deprecated; Function `plot_confusion_matrix` is deprecated in 1.0 and will be removed in 1.2. Use one of the class methods: ConfusionMatrixDisplay.from_predictions or ConfusionMatrixDisplay.from_estimator.\n",
      "  warnings.warn(msg, category=FutureWarning)\n"
     ]
    },
    {
     "data": {
      "image/png": "[encoded data removed]",
      "text/plain": [
       "<Figure size 432x288 with 2 Axes>"
      ]
     },
     "metadata": {
      "needs_background": "light"
     },
     "output_type": "display_data"
    },
    {
     "data": {
      "text/plain": [
       "(0.9151009046624913, 0.9444444444444444)"
      ]
     },
     "execution_count": 598,
     "metadata": {},
     "output_type": "execute_result"
    }
   ],
   "source": [
    "graph9 = CustomLogisticRegression(C=5)\n",
    "fit_evaluate(graph9, X_train, y_train, X_test, y_test)"
   ]
  },
  {
   "cell_type": "markdown",
   "metadata": {},
   "source": [
    "Как видно из графиков, чем больше значение параметра регуляризации, тем меньше значение функции потерь, то есть регуляризация не дает модели переобучиться."
   ]
  },
  {
   "cell_type": "markdown",
   "metadata": {},
   "source": [
    "**(0.5 points)** Compare zero initialization and random initialization. "
   ]
  },
  {
   "cell_type": "code",
   "execution_count": 591,
   "metadata": {},
   "outputs": [
    {
     "name": "stderr",
     "output_type": "stream",
     "text": [
      "C:\\Users\\HP\\AppData\\Local\\Programs\\Python\\Python39\\lib\\site-packages\\sklearn\\utils\\deprecation.py:87: FutureWarning: Function plot_confusion_matrix is deprecated; Function `plot_confusion_matrix` is deprecated in 1.0 and will be removed in 1.2. Use one of the class methods: ConfusionMatrixDisplay.from_predictions or ConfusionMatrixDisplay.from_estimator.\n",
      "  warnings.warn(msg, category=FutureWarning)\n"
     ]
    },
    {
     "data": {
      "image/png": "[encoded data removed]",
      "text/plain": [
       "<Figure size 432x288 with 2 Axes>"
      ]
     },
     "metadata": {
      "needs_background": "light"
     },
     "output_type": "display_data"
    },
    {
     "name": "stdout",
     "output_type": "stream",
     "text": [
      "train accuracy_with zero initialization  0.9116214335421016\n",
      "test accuracy_with zero initialization  0.9388888888888889\n"
     ]
    },
    {
     "name": "stderr",
     "output_type": "stream",
     "text": [
      "C:\\Users\\HP\\AppData\\Local\\Programs\\Python\\Python39\\lib\\site-packages\\sklearn\\utils\\deprecation.py:87: FutureWarning: Function plot_confusion_matrix is deprecated; Function `plot_confusion_matrix` is deprecated in 1.0 and will be removed in 1.2. Use one of the class methods: ConfusionMatrixDisplay.from_predictions or ConfusionMatrixDisplay.from_estimator.\n",
      "  warnings.warn(msg, category=FutureWarning)\n"
     ]
    },
    {
     "data": {
      "image/png": "[encoded data removed]",
      "text/plain": [
       "<Figure size 432x288 with 2 Axes>"
      ]
     },
     "metadata": {
      "needs_background": "light"
     },
     "output_type": "display_data"
    },
    {
     "name": "stdout",
     "output_type": "stream",
     "text": [
      "train accuracy_with random initialization  0.9109255393180237\n",
      "test accuracy_with random initialization  0.9388888888888889\n"
     ]
    }
   ],
   "source": [
    "model = CustomLogisticRegression()\n",
    "model.zero_init = True\n",
    "train_acc, test_acc = fit_evaluate(model, X_train, y_train, X_test, y_test)\n",
    "print('train accuracy_with zero initialization ', train_acc)\n",
    "print('test accuracy_with zero initialization ', test_acc)\n",
    "\n",
    "model = CustomLogisticRegression()\n",
    "model.zero_init = False\n",
    "train_acc, test_acc = fit_evaluate(model, X_train, y_train, X_test, y_test)\n",
    "print('train accuracy_with random initialization ', train_acc)\n",
    "print('test accuracy_with random initialization ', test_acc)"
   ]
  },
  {
   "cell_type": "markdown",
   "metadata": {},
   "source": [
    "Как видно из графиков различия не столько существенны"
   ]
  },
  {
   "cell_type": "markdown",
   "metadata": {},
   "source": [
    "## Part 2: Implementing KNN Classifier"
   ]
  },
  {
   "cell_type": "markdown",
   "metadata": {},
   "source": [
    "In this task you need to implement weighted K-Neighbors Classifier."
   ]
  },
  {
   "cell_type": "markdown",
   "metadata": {},
   "source": [
    "Recall that training a KNN classifier is simply memorizing a training sample. \n",
    "\n",
    "The process of applying a classifier for one object is to find the distances from it to all objects in the training data, then select the k nearest objects (neighbors) and return the most common class among these objects."
   ]
  },
  {
   "cell_type": "markdown",
   "metadata": {},
   "source": [
    "You can also give the nearest neighbors weights in accordance with the distance of the object to them. In the simplest case (as in your assignment), you can set the weights inversely proportional to that distance. \n",
    "\n",
    "$$w_{i} = \\frac{1}{d_{i} + eps},$$\n",
    "\n",
    "where $d_{i}$ is the distance between object and i-th nearest neighbor and $eps$ is the small value to prevent division by zero.\n",
    "\n",
    "In case of 'uniform' weights, all k nearest neighbors are equivalent (have equal weight, for example $w_{i} = 1, \\forall i \\in(1,k)$)."
   ]
  },
  {
   "cell_type": "markdown",
   "metadata": {},
   "source": [
    "To predict the probability of classes, it is necessary to normalize the weights of each class, dividing them by the sum:\n",
    "\n",
    "$$p_{i} = \\frac{w_{i}}{\\sum_{j=1}^{c}w_{j}},$$\n",
    "\n",
    "where $p_i$ is probability of i-th class and $c$ is the number of classes."
   ]
  },
  {
   "cell_type": "markdown",
   "metadata": {},
   "source": [
    "**(2 points)** Implement the algorithm and use it to classify the digits. By implementing this algorithm, you will be able to classify numbers not only into \"even\" or \"odd\", but into their real representation."
   ]
  },
  {
   "cell_type": "code",
   "execution_count": 606,
   "metadata": {},
   "outputs": [],
   "source": [
    "class CustomKNeighborsClassifier:\n",
    "    _estimator_type = \"classifier\"\n",
    "    \n",
    "    def __init__(self, n_neighbors=5, weights='uniform', eps=1e-9):\n",
    "        \"\"\"K-Nearest Neighbors classifier.\n",
    "        \n",
    "        Args:\n",
    "            n_neighbors: int, default=5\n",
    "                Number of neighbors to use by default for :meth:`kneighbors` queries.\n",
    "            weights : {'uniform', 'distance'} or callable, default='uniform'\n",
    "                Weight function used in prediction.  Possible values:\n",
    "                - 'uniform' : uniform weights.  All points in each neighborhood\n",
    "                  are weighted equally.\n",
    "                - 'distance' : weight points by the inverse of their distance.\n",
    "                  in this case, closer neighbors of a query point will have a\n",
    "                  greater influence than neighbors which are further away.\n",
    "            eps : float, default=1e-5\n",
    "                Epsilon to prevent division by 0 \n",
    "        \"\"\"\n",
    "        self.n_neighbors = n_neighbors\n",
    "        self.weights = weights\n",
    "        self.eps = eps\n",
    "        \n",
    "    \n",
    "    def get_pairwise_distances(self, X, Y):\n",
    "        \"\"\"\n",
    "        Returnes matrix of the pairwise distances between the rows from both X and Y.\n",
    "        Args:\n",
    "            X: numpy array of shape (n_samples, n_features)\n",
    "            Y: numpy array of shape (k_samples, n_features)\n",
    "        Returns:\n",
    "            P: numpy array of shape (n_samples, k_samples)\n",
    "                Matrix in which (i, j) value is the distance \n",
    "                between i'th row from the X and j'th row from the Y.\n",
    "        \"\"\"\n",
    "        from sklearn.metrics import pairwise_distances\n",
    "        return pairwise_distances(X,Y)\n",
    "    \n",
    "    \n",
    "    def get_class_weights(self, y, weights):\n",
    "        \"\"\"\n",
    "        Returns a vector with sum of weights for each class \n",
    "        Args:\n",
    "            y: numpy array of shape (n_samles,)\n",
    "            weights: numpy array of shape (n_samples,)\n",
    "                The weights of the corresponding points of y.\n",
    "        Returns:\n",
    "            p: numpy array of shape (n_classes)\n",
    "                Array where the value at the i-th position \n",
    "                corresponds to the weight of the i-th class.\n",
    "        \"\"\"\n",
    "        w = []\n",
    "        for i in self.classes_:\n",
    "            s = 0\n",
    "            for j in range(len(y)):\n",
    "                if y[j] == i:\n",
    "                    s += weights[j]\n",
    "            w.append(s)\n",
    "        return w\n",
    "            \n",
    "        \n",
    "    def fit(self, X, y):\n",
    "        \"\"\"Fit the model.\n",
    "        \n",
    "        Args:\n",
    "            X: numpy array of shape (n_samples, n_features)\n",
    "            y: numpy array of shape (n_samples,)\n",
    "                Target vector.        \n",
    "        \"\"\"\n",
    "        self.points = X\n",
    "        self.y = y\n",
    "        self.classes_ = np.unique(y)\n",
    "        \n",
    "        \n",
    "    def predict_proba(self, X):\n",
    "        \"\"\"Predict positive class probabilities.\n",
    "        \n",
    "        Args:\n",
    "            X: numpy array of shape (n_samples, n_features)\n",
    "        Returns:\n",
    "            y: numpy array of shape (n_samples, n_classes)\n",
    "                Vector containing positive class probabilities.\n",
    "        \"\"\"\n",
    "        if hasattr(self, 'points'):\n",
    "            P = self.get_pairwise_distances(X, self.points)\n",
    "            \n",
    "            weights_of_points = np.ones(P.shape)\n",
    "            if self.weights == 'distance':\n",
    "                weights_of_points = np.ones(P.shape) / (P + self.eps)\n",
    "                \n",
    "            y = np.zeros((X.shape[0], len(self.classes_)))\n",
    "            for i, sample in enumerate(P):\n",
    "                neighbors = np.argsort(sample)[:self.n_neighbors]\n",
    "                neighbor_classes = self.y[neighbors]\n",
    "                y[i] = self.get_class_weights(neighbor_classes, weights_of_points[i][neighbors])\n",
    "                y[i] /= np.sum(y[i])\n",
    "                \n",
    "            return y\n",
    "            \n",
    "        \n",
    "        else: \n",
    "            raise NotFittedError(\"CustomKNeighborsClassifier instance is not fitted yet\")\n",
    "            \n",
    "        \n",
    "    def predict(self, X):\n",
    "        \"\"\"Predict classes.\n",
    "        \n",
    "        Args:\n",
    "            X: numpy array of shape (n_samples, n_features)\n",
    "        Returns:\n",
    "            y: numpy array of shape (n_samples,)\n",
    "                Vector containing predicted class labels.\n",
    "        \"\"\"\n",
    "        return np.argmax(self.predict_proba(X), axis=1)"
   ]
  },
  {
   "cell_type": "code",
   "execution_count": 607,
   "metadata": {},
   "outputs": [],
   "source": [
    "model = CustomKNeighborsClassifier(n_neighbors=5, weights='distance')\n",
    "knn = KNeighborsClassifier(n_neighbors=5, weights='distance')"
   ]
  },
  {
   "cell_type": "code",
   "execution_count": 608,
   "metadata": {},
   "outputs": [],
   "source": [
    "assert np.allclose(model.get_pairwise_distances(np.array([[0  , 1]  , [1, 1]]), \n",
    "                                                np.array([[0.5, 0.5], [1, 0]])),\n",
    "                   np.array([[0.70710678, 1.41421356],\n",
    "                             [0.70710678, 1.        ]]))"
   ]
  },
  {
   "cell_type": "code",
   "execution_count": 609,
   "metadata": {},
   "outputs": [],
   "source": [
    "model.classes_ = ['one', 'two', 'three']\n",
    "assert np.allclose(model.get_class_weights(np.array(['one', 'one', 'three', 'two']), np.array([1, 1, 0, 4])), \n",
    "                   np.array([2,4,0]))"
   ]
  },
  {
   "cell_type": "code",
   "execution_count": 610,
   "metadata": {},
   "outputs": [
    {
     "data": {
      "image/png": "[encoded data removed]",
      "text/plain": [
       "<Figure size 720x360 with 21 Axes>"
      ]
     },
     "metadata": {
      "needs_background": "light"
     },
     "output_type": "display_data"
    }
   ],
   "source": [
    "X, y = datasets.load_digits(n_class=10, return_X_y=True)\n",
    "\n",
    "_, axes = plt.subplots(nrows=3, ncols=7, figsize=(10, 5))\n",
    "for ax, image, label in zip(axes.flatten(), X, y):\n",
    "    ax.set_axis_off()\n",
    "    ax.imshow(image.reshape((8, 8)), cmap=plt.cm.gray_r if label % 2 else plt.cm.afmhot_r)\n",
    "    ax.set_title(label)\n",
    "\n",
    "X_train, X_test, y_train, y_test = train_test_split(X, y, test_size=0.2, shuffle=True, random_state=42)"
   ]
  },
  {
   "cell_type": "code",
   "execution_count": 611,
   "metadata": {},
   "outputs": [],
   "source": [
    "model.fit(X_train, y_train)\n",
    "knn.fit(X_train, list(map(str, y_train)));"
   ]
  },
  {
   "cell_type": "code",
   "execution_count": 612,
   "metadata": {},
   "outputs": [],
   "source": [
    "assert np.allclose(model.predict_proba(X_test), knn.predict_proba(X_test))"
   ]
  },
  {
   "cell_type": "code",
   "execution_count": 613,
   "metadata": {},
   "outputs": [
    {
     "name": "stderr",
     "output_type": "stream",
     "text": [
      "C:\\Users\\HP\\AppData\\Local\\Programs\\Python\\Python39\\lib\\site-packages\\sklearn\\utils\\deprecation.py:87: FutureWarning: Function plot_confusion_matrix is deprecated; Function `plot_confusion_matrix` is deprecated in 1.0 and will be removed in 1.2. Use one of the class methods: ConfusionMatrixDisplay.from_predictions or ConfusionMatrixDisplay.from_estimator.\n",
      "  warnings.warn(msg, category=FutureWarning)\n"
     ]
    },
    {
     "data": {
      "image/png": "[encoded data removed]",
      "text/plain": [
       "<Figure size 432x288 with 2 Axes>"
      ]
     },
     "metadata": {
      "needs_background": "light"
     },
     "output_type": "display_data"
    }
   ],
   "source": [
    "train_acc, test_acc = fit_evaluate(model, X_train, y_train, X_test, y_test)"
   ]
  },
  {
   "cell_type": "code",
   "execution_count": 614,
   "metadata": {},
   "outputs": [],
   "source": [
    "assert train_acc == 1\n",
    "assert test_acc > 0.98"
   ]
  },
  {
   "cell_type": "markdown",
   "metadata": {},
   "source": [
    "**(0.5 points)** Take a look at the confusion matrix and tell what numbers the model confuses and why this happens."
   ]
  },
  {
   "cell_type": "markdown",
   "metadata": {},
   "source": [
    "Как видно из графика, модель путает числа (9, 4, 5); (5, 6, 9) и (7, 9). Возможно это происходит потому, что они схожи по форме (пиксели?)."
   ]
  },
  {
   "cell_type": "markdown",
   "metadata": {},
   "source": [
    "**(0.5 points)** Try different n_neighbors parameters and compare the output probabilities of the model."
   ]
  },
  {
   "cell_type": "code",
   "execution_count": 628,
   "metadata": {},
   "outputs": [
    {
     "name": "stderr",
     "output_type": "stream",
     "text": [
      "C:\\Users\\HP\\AppData\\Local\\Programs\\Python\\Python39\\lib\\site-packages\\sklearn\\utils\\deprecation.py:87: FutureWarning: Function plot_confusion_matrix is deprecated; Function `plot_confusion_matrix` is deprecated in 1.0 and will be removed in 1.2. Use one of the class methods: ConfusionMatrixDisplay.from_predictions or ConfusionMatrixDisplay.from_estimator.\n",
      "  warnings.warn(msg, category=FutureWarning)\n"
     ]
    },
    {
     "data": {
      "image/png": "[encoded data removed]",
      "text/plain": [
       "<Figure size 432x288 with 2 Axes>"
      ]
     },
     "metadata": {
      "needs_background": "light"
     },
     "output_type": "display_data"
    },
    {
     "data": {
      "text/plain": [
       "(1.0, 0.9861111111111112)"
      ]
     },
     "execution_count": 628,
     "metadata": {},
     "output_type": "execute_result"
    }
   ],
   "source": [
    "graph10 = CustomKNeighborsClassifier(n_neighbors=5, weights='distance')\n",
    "fit_evaluate(graph10, X_train, y_train, X_test, y_test)"
   ]
  },
  {
   "cell_type": "code",
   "execution_count": 627,
   "metadata": {},
   "outputs": [
    {
     "name": "stderr",
     "output_type": "stream",
     "text": [
      "C:\\Users\\HP\\AppData\\Local\\Programs\\Python\\Python39\\lib\\site-packages\\sklearn\\utils\\deprecation.py:87: FutureWarning: Function plot_confusion_matrix is deprecated; Function `plot_confusion_matrix` is deprecated in 1.0 and will be removed in 1.2. Use one of the class methods: ConfusionMatrixDisplay.from_predictions or ConfusionMatrixDisplay.from_estimator.\n",
      "  warnings.warn(msg, category=FutureWarning)\n"
     ]
    },
    {
     "data": {
      "image/png": "[encoded data removed]",
      "text/plain": [
       "<Figure size 432x288 with 2 Axes>"
      ]
     },
     "metadata": {
      "needs_background": "light"
     },
     "output_type": "display_data"
    },
    {
     "data": {
      "text/plain": [
       "(1.0, 0.9805555555555555)"
      ]
     },
     "execution_count": 627,
     "metadata": {},
     "output_type": "execute_result"
    }
   ],
   "source": [
    "graph11 = CustomKNeighborsClassifier(n_neighbors=10, weights='distance')\n",
    "fit_evaluate(graph11, X_train, y_train, X_test, y_test)"
   ]
  },
  {
   "cell_type": "code",
   "execution_count": 626,
   "metadata": {},
   "outputs": [
    {
     "name": "stderr",
     "output_type": "stream",
     "text": [
      "C:\\Users\\HP\\AppData\\Local\\Programs\\Python\\Python39\\lib\\site-packages\\sklearn\\utils\\deprecation.py:87: FutureWarning: Function plot_confusion_matrix is deprecated; Function `plot_confusion_matrix` is deprecated in 1.0 and will be removed in 1.2. Use one of the class methods: ConfusionMatrixDisplay.from_predictions or ConfusionMatrixDisplay.from_estimator.\n",
      "  warnings.warn(msg, category=FutureWarning)\n"
     ]
    },
    {
     "data": {
      "image/png": "[encoded data removed]",
      "text/plain": [
       "<Figure size 432x288 with 2 Axes>"
      ]
     },
     "metadata": {
      "needs_background": "light"
     },
     "output_type": "display_data"
    },
    {
     "data": {
      "text/plain": [
       "(1.0, 0.9777777777777777)"
      ]
     },
     "execution_count": 626,
     "metadata": {},
     "output_type": "execute_result"
    }
   ],
   "source": [
    "graph12 = CustomKNeighborsClassifier(n_neighbors=20, weights='distance')\n",
    "fit_evaluate(graph12, X_train, y_train, X_test, y_test)"
   ]
  },
  {
   "cell_type": "markdown",
   "metadata": {},
   "source": [
    "Как видно из графика при меньшем количестве neighbors отмечается худшая точность из-за влияния шума, для большего - лучшую.\n",
    "Но при большом количестве neighbor увеличивается и необходмая мощность"
   ]
  },
  {
   "cell_type": "markdown",
   "metadata": {},
   "source": [
    "**(0.5 points)** Compare both 'uniform' and 'distance' weights and share your thoughts in what situations which parameter can be better."
   ]
  },
  {
   "cell_type": "code",
   "execution_count": 629,
   "metadata": {},
   "outputs": [
    {
     "name": "stderr",
     "output_type": "stream",
     "text": [
      "C:\\Users\\HP\\AppData\\Local\\Programs\\Python\\Python39\\lib\\site-packages\\sklearn\\utils\\deprecation.py:87: FutureWarning: Function plot_confusion_matrix is deprecated; Function `plot_confusion_matrix` is deprecated in 1.0 and will be removed in 1.2. Use one of the class methods: ConfusionMatrixDisplay.from_predictions or ConfusionMatrixDisplay.from_estimator.\n",
      "  warnings.warn(msg, category=FutureWarning)\n"
     ]
    },
    {
     "data": {
      "image/png": "[encoded data removed]",
      "text/plain": [
       "<Figure size 432x288 with 2 Axes>"
      ]
     },
     "metadata": {
      "needs_background": "light"
     },
     "output_type": "display_data"
    },
    {
     "data": {
      "text/plain": [
       "(0.9895615866388309, 0.9861111111111112)"
      ]
     },
     "execution_count": 629,
     "metadata": {},
     "output_type": "execute_result"
    }
   ],
   "source": [
    "knn = KNeighborsClassifier(n_neighbors=5, weights='uniform')\n",
    "fit_evaluate(knn, X_train, y_train, X_test, y_test)"
   ]
  },
  {
   "cell_type": "code",
   "execution_count": 630,
   "metadata": {},
   "outputs": [
    {
     "name": "stderr",
     "output_type": "stream",
     "text": [
      "C:\\Users\\HP\\AppData\\Local\\Programs\\Python\\Python39\\lib\\site-packages\\sklearn\\utils\\deprecation.py:87: FutureWarning: Function plot_confusion_matrix is deprecated; Function `plot_confusion_matrix` is deprecated in 1.0 and will be removed in 1.2. Use one of the class methods: ConfusionMatrixDisplay.from_predictions or ConfusionMatrixDisplay.from_estimator.\n",
      "  warnings.warn(msg, category=FutureWarning)\n"
     ]
    },
    {
     "data": {
      "image/png": "[encoded data removed]",
      "text/plain": [
       "<Figure size 432x288 with 2 Axes>"
      ]
     },
     "metadata": {
      "needs_background": "light"
     },
     "output_type": "display_data"
    },
    {
     "data": {
      "text/plain": [
       "(1.0, 0.9861111111111112)"
      ]
     },
     "execution_count": 630,
     "metadata": {},
     "output_type": "execute_result"
    }
   ],
   "source": [
    "knn = KNeighborsClassifier(n_neighbors=5, weights='distance')\n",
    "fit_evaluate(knn, X_train, y_train, X_test, y_test)"
   ]
  },
  {
   "cell_type": "markdown",
   "metadata": {},
   "source": [
    "Как видно из графиков, результаты одинаковы. Возможно, разница может быть заметна на несбалансированных наборах данных, и в этом случае лучше использовать \"неравномерные\" веса, чтобы избежать выбросов."
   ]
  },
  {
   "cell_type": "markdown",
   "metadata": {},
   "source": [
    "**(0.5 points)** Suggest another distance measurement function that could improve the quality of the classification for this task. "
   ]
  },
  {
   "cell_type": "markdown",
   "metadata": {},
   "source": [
    "Например, Manhattan distance"
   ]
  },
  {
   "cell_type": "markdown",
   "metadata": {},
   "source": [
    "**(0.5 points)** Suggest different task and distance function that you think would be suitable for it."
   ]
  },
  {
   "cell_type": "markdown",
   "metadata": {},
   "source": [
    "< your thoughts >"
   ]
  },
  {
   "cell_type": "markdown",
   "metadata": {},
   "source": [
    "## Part 3: Synthetic Titanic Survival Prediction"
   ]
  },
  {
   "cell_type": "markdown",
   "metadata": {},
   "source": [
    "### Dataset\n",
    "\n",
    "Read the description here: https://www.kaggle.com/c/tabular-playground-series-apr-2021/data. Download the dataset and place it in the *data/titanic/* folder in your working directory.\n",
    "You will use train.csv for model training and validation. The test set is used for model testing: once the model is trained, you can predict whether a passenger survived or not for each passenger in the test set, and submit the predictions: https://www.kaggle.com/c/tabular-playground-series-apr-2021/overview/evaluation.  \n"
   ]
  },
  {
   "cell_type": "code",
   "execution_count": 279,
   "metadata": {},
   "outputs": [],
   "source": [
    "PATH = \"\""
   ]
  },
  {
   "cell_type": "code",
   "execution_count": 280,
   "metadata": {},
   "outputs": [],
   "source": [
    "train_data = pd.read_csv(os.path.join(PATH, 'titanic', 'train.csv')).set_index('PassengerId')\n",
    "test_data = pd.read_csv(os.path.join(PATH, 'titanic', 'test.csv')).set_index('PassengerId')"
   ]
  },
  {
   "cell_type": "code",
   "execution_count": 281,
   "metadata": {
    "scrolled": true
   },
   "outputs": [
    {
     "data": {
      "text/html": [
       "<div>\n",
       "<style scoped>\n",
       "    .dataframe tbody tr th:only-of-type {\n",
       "        vertical-align: middle;\n",
       "    }\n",
       "\n",
       "    .dataframe tbody tr th {\n",
       "        vertical-align: top;\n",
       "    }\n",
       "\n",
       "    .dataframe thead th {\n",
       "        text-align: right;\n",
       "    }\n",
       "</style>\n",
       "<table border=\"1\" class=\"dataframe\">\n",
       "  <thead>\n",
       "    <tr style=\"text-align: right;\">\n",
       "      <th></th>\n",
       "      <th>Survived</th>\n",
       "      <th>Pclass</th>\n",
       "      <th>Name</th>\n",
       "      <th>Sex</th>\n",
       "      <th>Age</th>\n",
       "      <th>SibSp</th>\n",
       "      <th>Parch</th>\n",
       "      <th>Ticket</th>\n",
       "      <th>Fare</th>\n",
       "      <th>Cabin</th>\n",
       "      <th>Embarked</th>\n",
       "    </tr>\n",
       "    <tr>\n",
       "      <th>PassengerId</th>\n",
       "      <th></th>\n",
       "      <th></th>\n",
       "      <th></th>\n",
       "      <th></th>\n",
       "      <th></th>\n",
       "      <th></th>\n",
       "      <th></th>\n",
       "      <th></th>\n",
       "      <th></th>\n",
       "      <th></th>\n",
       "      <th></th>\n",
       "    </tr>\n",
       "  </thead>\n",
       "  <tbody>\n",
       "    <tr>\n",
       "      <th>0</th>\n",
       "      <td>1</td>\n",
       "      <td>1</td>\n",
       "      <td>Oconnor, Frankie</td>\n",
       "      <td>male</td>\n",
       "      <td>NaN</td>\n",
       "      <td>2</td>\n",
       "      <td>0</td>\n",
       "      <td>209245</td>\n",
       "      <td>27.14</td>\n",
       "      <td>C12239</td>\n",
       "      <td>S</td>\n",
       "    </tr>\n",
       "    <tr>\n",
       "      <th>1</th>\n",
       "      <td>0</td>\n",
       "      <td>3</td>\n",
       "      <td>Bryan, Drew</td>\n",
       "      <td>male</td>\n",
       "      <td>NaN</td>\n",
       "      <td>0</td>\n",
       "      <td>0</td>\n",
       "      <td>27323</td>\n",
       "      <td>13.35</td>\n",
       "      <td>NaN</td>\n",
       "      <td>S</td>\n",
       "    </tr>\n",
       "    <tr>\n",
       "      <th>2</th>\n",
       "      <td>0</td>\n",
       "      <td>3</td>\n",
       "      <td>Owens, Kenneth</td>\n",
       "      <td>male</td>\n",
       "      <td>0.33</td>\n",
       "      <td>1</td>\n",
       "      <td>2</td>\n",
       "      <td>CA 457703</td>\n",
       "      <td>71.29</td>\n",
       "      <td>NaN</td>\n",
       "      <td>S</td>\n",
       "    </tr>\n",
       "    <tr>\n",
       "      <th>3</th>\n",
       "      <td>0</td>\n",
       "      <td>3</td>\n",
       "      <td>Kramer, James</td>\n",
       "      <td>male</td>\n",
       "      <td>19.00</td>\n",
       "      <td>0</td>\n",
       "      <td>0</td>\n",
       "      <td>A. 10866</td>\n",
       "      <td>13.04</td>\n",
       "      <td>NaN</td>\n",
       "      <td>S</td>\n",
       "    </tr>\n",
       "    <tr>\n",
       "      <th>4</th>\n",
       "      <td>1</td>\n",
       "      <td>3</td>\n",
       "      <td>Bond, Michael</td>\n",
       "      <td>male</td>\n",
       "      <td>25.00</td>\n",
       "      <td>0</td>\n",
       "      <td>0</td>\n",
       "      <td>427635</td>\n",
       "      <td>7.76</td>\n",
       "      <td>NaN</td>\n",
       "      <td>S</td>\n",
       "    </tr>\n",
       "  </tbody>\n",
       "</table>\n",
       "</div>"
      ],
      "text/plain": [
       "             Survived  Pclass              Name   Sex    Age  SibSp  Parch  \\\n",
       "PassengerId                                                                  \n",
       "0                   1       1  Oconnor, Frankie  male    NaN      2      0   \n",
       "1                   0       3       Bryan, Drew  male    NaN      0      0   \n",
       "2                   0       3    Owens, Kenneth  male   0.33      1      2   \n",
       "3                   0       3     Kramer, James  male  19.00      0      0   \n",
       "4                   1       3     Bond, Michael  male  25.00      0      0   \n",
       "\n",
       "                Ticket   Fare   Cabin Embarked  \n",
       "PassengerId                                     \n",
       "0               209245  27.14  C12239        S  \n",
       "1                27323  13.35     NaN        S  \n",
       "2            CA 457703  71.29     NaN        S  \n",
       "3             A. 10866  13.04     NaN        S  \n",
       "4               427635   7.76     NaN        S  "
      ]
     },
     "execution_count": 281,
     "metadata": {},
     "output_type": "execute_result"
    }
   ],
   "source": [
    "train_data.head()"
   ]
  },
  {
   "cell_type": "code",
   "execution_count": 282,
   "metadata": {},
   "outputs": [
    {
     "data": {
      "text/plain": [
       "Survived     0.000\n",
       "Pclass       0.000\n",
       "Name         0.000\n",
       "Sex          0.000\n",
       "Age          3.292\n",
       "SibSp        0.000\n",
       "Parch        0.000\n",
       "Ticket       4.623\n",
       "Fare         0.134\n",
       "Cabin       67.866\n",
       "Embarked     0.250\n",
       "dtype: float64"
      ]
     },
     "execution_count": 282,
     "metadata": {},
     "output_type": "execute_result"
    }
   ],
   "source": [
    "# пропущенные значения \n",
    "missing_percentages = (train_data[train_data.columns].isnull().sum() / train_data.shape[0]) * 100\n",
    "missing_percentages"
   ]
  },
  {
   "cell_type": "code",
   "execution_count": 283,
   "metadata": {},
   "outputs": [
    {
     "name": "stdout",
     "output_type": "stream",
     "text": [
      "Кол-во уникальных значений в Survived - 2\n",
      "Кол-во уникальных значений в Pclass - 3\n",
      "Кол-во уникальных значений в Name - 92144\n",
      "Кол-во уникальных значений в Sex - 2\n",
      "Кол-во уникальных значений в Age - 174\n",
      "Кол-во уникальных значений в SibSp - 7\n",
      "Кол-во уникальных значений в Parch - 8\n",
      "Кол-во уникальных значений в Ticket - 75332\n",
      "Кол-во уникальных значений в Fare - 15936\n",
      "Кол-во уникальных значений в Cabin - 26993\n",
      "Кол-во уникальных значений в Embarked - 4\n"
     ]
    }
   ],
   "source": [
    "# уникальные значения \n",
    "for i in train_data.columns:\n",
    "    print(\"Кол-во уникальных значений в {} - {}\".format(i, len(train_data[i].unique())))"
   ]
  },
  {
   "cell_type": "code",
   "execution_count": 284,
   "metadata": {},
   "outputs": [
    {
     "data": {
      "text/plain": [
       "0"
      ]
     },
     "execution_count": 284,
     "metadata": {},
     "output_type": "execute_result"
    }
   ],
   "source": [
    "# Проверка на дубликаты\n",
    "train_data.duplicated().sum()"
   ]
  },
  {
   "cell_type": "markdown",
   "metadata": {},
   "source": [
    "### EDA"
   ]
  },
  {
   "cell_type": "markdown",
   "metadata": {},
   "source": [
    "! Большую часть анализа брал из ранее проведенного EDA (2 - Descriptive Statistics and Data Exploration)\n",
    "\n",
    "Прилагаю на всякий случай к материалам"
   ]
  },
  {
   "cell_type": "markdown",
   "metadata": {},
   "source": [
    "**(0.5 points)** How many females and males are there in the dataset? What about the survived passengers? Is there any relationship between the gender and the survival?"
   ]
  },
  {
   "cell_type": "code",
   "execution_count": 285,
   "metadata": {},
   "outputs": [
    {
     "data": {
      "image/png": "[encoded data removed]",
      "text/plain": [
       "<Figure size 1080x360 with 3 Axes>"
      ]
     },
     "metadata": {
      "needs_background": "light"
     },
     "output_type": "display_data"
    }
   ],
   "source": [
    "# распределение 'Survived', 'Sex', 'Sex/Survived'\n",
    "fig, ax = plt.subplots(1, 3, figsize=(15, 5))\n",
    "plt.subplot(1,5,1)\n",
    "ax = sns.countplot(x=\"Survived\",data=train_data, palette='RdYlGn')\n",
    "plt.subplot(1,5,3)\n",
    "ax = sns.countplot(x=\"Sex\",data=train_data)\n",
    "plt.subplot(1,5,5)\n",
    "ax = sns.countplot(x=\"Sex\", hue='Survived', data=train_data, palette='RdYlGn')"
   ]
  },
  {
   "cell_type": "code",
   "execution_count": 286,
   "metadata": {},
   "outputs": [
    {
     "name": "stdout",
     "output_type": "stream",
     "text": [
      "Survived      0      1\n",
      "Name      57226  42774\n",
      "\n",
      "Sex   female   male\n",
      "Name   43886  56114\n",
      "\n",
      "             female       male\n",
      "Survived                      \n",
      "0         28.847468  79.420465\n",
      "1         71.152532  20.579535\n"
     ]
    }
   ],
   "source": [
    "# распределение 'Survived'\n",
    "print(pd.pivot_table(train_data, columns = 'Survived', values = 'Name' , aggfunc='count'))\n",
    "print()\n",
    "# распределение 'Sex'\n",
    "print(pd.pivot_table(train_data, columns = 'Sex', values = 'Name' , aggfunc='count'))\n",
    "print()\n",
    "# распределение 'Sex/Survived', относительные значения (%)\n",
    "print(pd.pivot_table(train_data, index = 'Survived', columns = 'Sex', values = 'Name' , aggfunc='count')\n",
    "          /train_data.Sex.value_counts()*100)"
   ]
  },
  {
   "cell_type": "markdown",
   "metadata": {},
   "source": [
    "- `Survived` : общее кол-во погибших (57 226 или 57.2%) превышает кол-во выживших (42 774 или 42.8%);\n",
    "- `Sex` : на борту мужчин (56 114 или 56.1%) было больше чем женщин (43 886 или 43.9%);\n",
    "- `Sex -- Survived` : женищины имели большое шансов выжить (71.2% выживших, 28.8% погибших), у мужчин - обратная тенденция (20.6 и 79.4% соответственно). Можно предположить, что это связано с тем, что женщин (и детей) спасают первыми."
   ]
  },
  {
   "cell_type": "markdown",
   "metadata": {},
   "source": [
    "**(0.5 points)** Plot age distribution of the passengers. What is the average and the median age of survived and deceased passengers? Do age distributions differ for survived and deceased passengers? Why?"
   ]
  },
  {
   "cell_type": "code",
   "execution_count": 287,
   "metadata": {},
   "outputs": [
    {
     "name": "stdout",
     "output_type": "stream",
     "text": [
      "медианный возраст пассажиров: 39.0\n",
      "средний возраст пассажиров: 38.35547214294577\n"
     ]
    },
    {
     "data": {
      "image/png": "[encoded data removed]",
      "text/plain": [
       "<Figure size 864x360 with 2 Axes>"
      ]
     },
     "metadata": {
      "needs_background": "light"
     },
     "output_type": "display_data"
    }
   ],
   "source": [
    "# распределение 'Age'\n",
    "plt.subplot(1,2,1)\n",
    "train_data['Age'].hist(figsize=(12,5),bins=10,edgecolor='white')\n",
    "plt.xlabel('Age',fontsize=14)\n",
    "plt.ylabel('count',fontsize=14)\n",
    "\n",
    "plt.subplot(1,2,2)\n",
    "train_data['Age'].plot.box(figsize=(12,5))\n",
    "\n",
    "# медиана и среднее по `Age`\n",
    "print ('медианный возраст пассажиров:',train_data.Age.median()) \n",
    "print ('средний возраст пассажиров:',train_data.Age.mean())"
   ]
  },
  {
   "cell_type": "code",
   "execution_count": 288,
   "metadata": {},
   "outputs": [
    {
     "name": "stdout",
     "output_type": "stream",
     "text": [
      "медианный возраст погибших: 36.0\n",
      "медианный возраст выживших: 43.0\n",
      "средний возраст погибших: 36.70869488153374\n",
      "средний возраст выживших 40.553799314307795\n"
     ]
    },
    {
     "data": {
      "image/png": "[encoded data removed]",
      "text/plain": [
       "<Figure size 1131.88x360 with 1 Axes>"
      ]
     },
     "metadata": {
      "needs_background": "light"
     },
     "output_type": "display_data"
    }
   ],
   "source": [
    "# распределение 'Age/Survived'\n",
    "sns.displot(data=train_data, x='Age', hue='Survived', kde=True, height=5, aspect=3)\n",
    "\n",
    "# медиана и среднее по `Age/Survived`\n",
    "print ('медианный возраст погибших:', train_data[train_data['Survived'] == 0]['Age'].median())\n",
    "print ('медианный возраст выживших:', train_data[train_data['Survived'] == 1]['Age'].median())\n",
    "print ('средний возраст погибших:', train_data[train_data['Survived'] == 0]['Age'].mean())\n",
    "print ('средний возраст выживших', train_data[train_data['Survived'] == 1]['Age'].mean())"
   ]
  },
  {
   "cell_type": "markdown",
   "metadata": {},
   "source": [
    "- `Age` : признак имеет мультимодальное распределение. При этом медиана и среднее практически равны: 39.0 и 38.4 соответственно;\n",
    "- `Age -- Survived` : медианный и средний возраст выживших несколько больше, чем погибших, хоть и незначительно. Средний и мединанный возраст погибших практический равный: 36.7 и 36.0 соответственно. На графике видно, что молодые люди ~ от 18 до 42 лет погибали чаще, чем другие. Выживаемость среди пожилых, а также детей ~ от 14 до 17, напротив, была несколько выше.\n",
    "\n",
    "   Пропущенные значения предлагается заполнить медианными значениями."
   ]
  },
  {
   "cell_type": "markdown",
   "metadata": {},
   "source": [
    "**(1 point)** Explore \"passenger class\" and \"embarked\" features. What class was \"the safest\"? Is there any relationship between the embarkation port and the survival? Provide the corresponding visualizations."
   ]
  },
  {
   "cell_type": "code",
   "execution_count": 289,
   "metadata": {},
   "outputs": [
    {
     "data": {
      "image/png": "[encoded data removed]",
      "text/plain": [
       "<Figure size 1080x720 with 4 Axes>"
      ]
     },
     "metadata": {
      "needs_background": "light"
     },
     "output_type": "display_data"
    }
   ],
   "source": [
    "# распределение 'Pclass','Embarked', 'Pclass/Survived', 'Embarked/Survived'\n",
    "fig, ax = plt.subplots(2, 2, figsize=(15, 10))\n",
    "\n",
    "plt.subplot(2,2,1)\n",
    "ax = sns.countplot(x=\"Pclass\", data=train_data)\n",
    "\n",
    "plt.subplot(2,2,2)\n",
    "ax = sns.countplot(x=\"Embarked\", data=train_data)\n",
    "\n",
    "plt.subplot(2,2,3)\n",
    "ax = sns.countplot(x=\"Pclass\", hue='Survived', data=train_data, palette='RdYlGn')\n",
    "\n",
    "plt.subplot(2,2,4)\n",
    "ax = sns.countplot(x=\"Embarked\", hue='Survived', data=train_data, palette='RdYlGn')\n"
   ]
  },
  {
   "cell_type": "code",
   "execution_count": 290,
   "metadata": {},
   "outputs": [
    {
     "name": "stdout",
     "output_type": "stream",
     "text": [
      "Pclass      1      2      3\n",
      "Name    30315  28679  41006\n",
      "\n",
      "Embarked      C     Q      S\n",
      "Name      22187  5424  72139\n",
      "\n",
      "                  1          2          3\n",
      "Survived                                 \n",
      "0         42.022101  47.498169  75.269473\n",
      "1         57.977899  52.501831  24.730527\n",
      "\n",
      "                 C         Q          S\n",
      "Survived                               \n",
      "0         24.87042  40.30236  68.470591\n",
      "1         75.12958  59.69764  31.529409\n"
     ]
    }
   ],
   "source": [
    "print(pd.pivot_table(train_data, columns = 'Pclass', values = 'Name' , aggfunc='count'))\n",
    "print()\n",
    "print(pd.pivot_table(train_data, columns = 'Embarked', values = 'Name' , aggfunc='count'))\n",
    "print()\n",
    "print(pd.pivot_table(train_data, index = 'Survived', columns = 'Pclass', values = 'Name' , aggfunc='count')\n",
    "          /train_data.Pclass.value_counts()*100)\n",
    "print()\n",
    "print(pd.pivot_table(train_data, index = 'Survived', columns = 'Embarked', values = 'Name' ,aggfunc='count')\n",
    "           /train_data.Embarked.value_counts()*100)"
   ]
  },
  {
   "cell_type": "markdown",
   "metadata": {},
   "source": [
    "- `Pclass` : большинство пассажиров плыли 3 классом (41 006 или 41.0%), 1 и 2 - практически поровну (30 315 или 30.3% и 28 679 или 28.7% соответственно);\n",
    "- `Embarked` : место посадки большинства пассажиров был Southampton (72 139 или 72.1%), затем Cherbourg (22 187 или 22.2%) и незначительная часть пассажиров села в Queenstown (5 424 или 5.4%). Учитывая, что % пропущенных значений признака незначительный (0.25%) пропущенные значения предлагается заполнить модой;\n",
    "- `Pclass -- Survived` : пассижиры, плывшие 1 или 2 классом имели большое шансов выжить (58.0% выживших, 42.0% погибших и 52.5% выживших, 47.5% погибших соответственно), 3 классом - обратная тенденция (24.7% выживших, 75.3% погибших). Возможно, высокая выживаемость пассажиров 1 и 2 класса и низкая - пассажиров 3 класса - связана с расположением кают на корабле (каюты 1 и 2 корабля находились выше) или тем, что пассажирам 1 и 2 класса полагались спасательные шлюпки, а для пассажиров 3 класса их было меньше (не хватило).\n",
    "- `Embarked -- Survived` : пассажиры, севшие на рейс в Cherbourg (C) или Queenstown (Q) имели большое шансов выжить (58.0% выживших, 42.0% погибших и 52.5% выживших, 47.5% погибших соответственно), в Southampton (S) - обратная тенденция. !Но при этом отмечается, что на рейс в Cherbourg или Queenstown село больше женщин, а также пассажиров плывших 1 и 2 классом, в Southampton - обратная тенденция. То есть, можно преположить, что между переменной `Embarked` и `Survived` нет прямой причинной-следственной связи, `Survived` зависит от характеристик пассажиров (`Sex`, `Pclass`), севших в этих населенных пунктах `Embarked`. Но можно предположить, что `Embarked` влияет на характеристики пассажиров - например, что в Cherbourg живут преимущественно женщины с достатком, которые могут позволить себе плыть 1 классом."
   ]
  },
  {
   "cell_type": "markdown",
   "metadata": {},
   "source": [
    "### Дополнительный анализ\n",
    "###  Fare"
   ]
  },
  {
   "cell_type": "code",
   "execution_count": 291,
   "metadata": {},
   "outputs": [
    {
     "name": "stdout",
     "output_type": "stream",
     "text": [
      "медианное значение стоимости билета: 24.46\n",
      "среднее значение стоимости билета: 43.92933040273968\n"
     ]
    },
    {
     "data": {
      "image/png": "[encoded data removed]",
      "text/plain": [
       "<Figure size 864x360 with 2 Axes>"
      ]
     },
     "metadata": {
      "needs_background": "light"
     },
     "output_type": "display_data"
    }
   ],
   "source": [
    "# распределение 'Fare', 'Fare/Pclass'\n",
    "plt.subplot(1,2,1)\n",
    "train_data['Fare'].hist(figsize=(12,5),bins=10,edgecolor='white')\n",
    "plt.xlabel('Fare',fontsize=14)\n",
    "plt.ylabel('count',fontsize=14)\n",
    "\n",
    "plt.subplot(1,2,2)\n",
    "train_data['Fare'].plot.box(figsize=(12,5))\n",
    "\n",
    "# медиана и среднее по `Fare`\n",
    "print ('медианное значение стоимости билета:',train_data.Fare.median()) \n",
    "print ('среднее значение стоимости билета:',train_data.Fare.mean())"
   ]
  },
  {
   "cell_type": "code",
   "execution_count": 292,
   "metadata": {},
   "outputs": [
    {
     "name": "stdout",
     "output_type": "stream",
     "text": [
      "медианное значение стоимости билета 1 класса: 63.58\n",
      "медианное значение стоимости билета 2 класса: 22.72\n",
      "медианное значение стоимости билета 3 класса: 10.96\n",
      "среднее значение стоимости билета 1 класса: 92.65311345995045\n",
      "среднее значение стоимости билета 2 класса 25.756003422146176\n",
      "среднее значение стоимости билета 3 класса 20.618226058504664\n"
     ]
    },
    {
     "data": {
      "image/png": "[encoded data removed]",
      "text/plain": [
       "<Figure size 936x360 with 2 Axes>"
      ]
     },
     "metadata": {
      "needs_background": "light"
     },
     "output_type": "display_data"
    }
   ],
   "source": [
    "# `Fare -- Survived` и `Fare -- Pclass`\n",
    "# логично, что чем лучше класс, тем стоимость дороже.\n",
    "# поэтому тезис \"кто платил больше тот выживал\" - справедлив.\n",
    "fig, ax = plt.subplots(2, 1, figsize=(13, 5))\n",
    "plt.subplot(1,2,2)\n",
    "\n",
    "sns.boxplot(x= train_data.Survived, y= train_data.Fare)\n",
    "plt.subplot(1,2,1)\n",
    "sns.boxplot(x= train_data.Pclass, y= train_data.Fare)\n",
    "\n",
    "print ('медианное значение стоимости билета 1 класса:', train_data[train_data['Pclass'] == 1]['Fare'].median())\n",
    "print ('медианное значение стоимости билета 2 класса:', train_data[train_data['Pclass'] == 2]['Fare'].median())\n",
    "print ('медианное значение стоимости билета 3 класса:', train_data[train_data['Pclass'] == 3]['Fare'].median())\n",
    "print ('среднее значение стоимости билета 1 класса:', train_data[train_data['Pclass'] == 1]['Fare'].mean())\n",
    "print ('среднее значение стоимости билета 2 класса', train_data[train_data['Pclass'] == 2]['Fare'].mean())\n",
    "print ('среднее значение стоимости билета 3 класса', train_data[train_data['Pclass'] == 3]['Fare'].mean())"
   ]
  },
  {
   "cell_type": "markdown",
   "metadata": {},
   "source": [
    "###  Cabin"
   ]
  },
  {
   "cell_type": "code",
   "execution_count": 293,
   "metadata": {},
   "outputs": [
    {
     "name": "stdout",
     "output_type": "stream",
     "text": [
      "                  A          B          C          D          E          F  \\\n",
      "Survived                                                                     \n",
      "0         72.538449  36.980777  28.778013  26.780313  38.250429  16.289593   \n",
      "1         27.461551  63.019223  71.221987  73.219687  61.749571  83.710407   \n",
      "\n",
      "                  G          N      T  \n",
      "Survived                               \n",
      "0         16.390041  65.789939  56.25  \n",
      "1         83.609959  34.210061  43.75  \n"
     ]
    }
   ],
   "source": [
    "# в назавании кабины есть законономерность - начинается с огранич количества букв, которые могут обозначать номер палубы\n",
    "# учитывая большое количество пропущенных значений, пропущенные названия кабин в строках могут означать, что пассажирам не была выделена отдельная кабина, а например кабина общего пользования \n",
    "# выживаемость пассажиров \"без кабины\" - значительно ниже чем в кабинах с названием (за исключением кабин, начинающихся с 'A' и 'T')\n",
    "# создадим новый параметр 'Cabin_code'\n",
    "train_data[\"Cabin_code\"] = train_data[\"Cabin\"].str[0]\n",
    "train_data[\"Cabin_code\"] = train_data[\"Cabin_code\"].fillna(\"N\")\n",
    "print(pd.pivot_table(train_data, index = 'Survived', columns = 'Cabin_code', values = 'Name' , aggfunc='count')\n",
    "         /train_data.Cabin_code.value_counts()*100)"
   ]
  },
  {
   "cell_type": "markdown",
   "metadata": {},
   "source": [
    "### Ticket"
   ]
  },
  {
   "cell_type": "code",
   "execution_count": 294,
   "metadata": {},
   "outputs": [],
   "source": [
    "# Некоторые номера билетов имеют специальные буквенные символы, такие как A/5, CA, SC PARIS и т.д., в то время как многие просто цифровые. \n",
    "# Это может означать некоторую категоризацию билетов специального класса.\n",
    "# Билеты с одними цифрами, а также пустые значения названы 'XX'.\n",
    "# Для более компактного вида из названий билетов убраны знаки (точки, слэши)\n",
    "\n",
    "train_data['TicketType'] = train_data.Ticket.fillna('XX')\n",
    "train_data['TicketType'] = train_data.TicketType.map(lambda x:str(x).split()[0] if len(str(x).split()) > 1 else 'XX')\n",
    "train_data['TicketType'] = train_data['TicketType'].str.lower()\n",
    "import re\n",
    "train_data['TicketType'] = train_data.TicketType.map(lambda x: re.sub(\"[^\\w\\s]+\",\"\",x))"
   ]
  },
  {
   "cell_type": "code",
   "execution_count": 295,
   "metadata": {},
   "outputs": [
    {
     "data": {
      "image/png": "[encoded data removed]",
      "text/plain": [
       "<Figure size 1080x504 with 1 Axes>"
      ]
     },
     "metadata": {
      "needs_background": "light"
     },
     "output_type": "display_data"
    }
   ],
   "source": [
    "# Прослеживается корреляция категории билетов и выживаемости\n",
    "pd.crosstab(index= train_data.TicketType, columns= train_data.Survived, normalize='index' ). \\\n",
    "sort_values(by = 1).plot.bar(figsize=(15, 7),stacked = True)\n",
    "\n",
    "plt.axhline(y = 0.8, color = 'g', linestyle = '-')\n",
    "plt.axhline(y = 0.65, color = 'b', linestyle = '-');\n",
    "plt.axhline(y = 0.45, color = 'r', linestyle = '-');"
   ]
  },
  {
   "cell_type": "code",
   "execution_count": 296,
   "metadata": {},
   "outputs": [
    {
     "data": {
      "text/plain": [
       "d    81256\n",
       "c     7165\n",
       "a     6003\n",
       "b     5576\n",
       "Name: TT_bucket, dtype: int64"
      ]
     },
     "execution_count": 296,
     "metadata": {},
     "output_type": "execute_result"
    }
   ],
   "source": [
    "# Категории билетов сгруппированы по коэффициенту выживаемости (свыше 80%, от около 65% до 80%, менее 45% и иные)\n",
    "train_data['TT_bucket'] = train_data.TicketType.map(lambda x: 'c' if x in ['pc','sca3','pp','lp','aq4','as'] else 'a' if x in ['stono', 'stono2', 'sotono2', 'stonoq', 'aq3', 'a'] else 'b' if \\\n",
    "                                             x in ['sotonoq', 'fa', 'ca', 'fcc', 'scow', 'casoton', 'a4', 'a5'] else 'd')\n",
    "\n",
    "train_data['TT_bucket'].value_counts()"
   ]
  },
  {
   "cell_type": "markdown",
   "metadata": {},
   "source": [
    "- `Fare -- Survived` и `Fare -- Pclass` : Чем лучше класс, тем стоимость билета дороже. Поэтому тезис \"кто платил больше, тот выживал\" - справедлив.\n",
    "- `Fare` : признак имеет значительное кол-во выбросов. Медиана и среднее составляют 24.5 и 43.9 соответственно. Учитывая зависимость стоимости билета от класса, а также, что % пропущенных значений признака незначительный (0.13%), пропущенные значения предлагается заполнить медианой в зависимости от `Pclass`."
   ]
  },
  {
   "cell_type": "markdown",
   "metadata": {},
   "source": [
    "### Modelling"
   ]
  },
  {
   "cell_type": "markdown",
   "metadata": {},
   "source": [
    "**(0.5 points)** Find the percentage of missing values for each feature. "
   ]
  },
  {
   "cell_type": "code",
   "execution_count": 297,
   "metadata": {},
   "outputs": [
    {
     "data": {
      "text/plain": [
       "Survived       0.000\n",
       "Pclass         0.000\n",
       "Name           0.000\n",
       "Sex            0.000\n",
       "Age            3.292\n",
       "SibSp          0.000\n",
       "Parch          0.000\n",
       "Ticket         4.623\n",
       "Fare           0.134\n",
       "Cabin         67.866\n",
       "Embarked       0.250\n",
       "Cabin_code     0.000\n",
       "TicketType     0.000\n",
       "TT_bucket      0.000\n",
       "dtype: float64"
      ]
     },
     "execution_count": 297,
     "metadata": {},
     "output_type": "execute_result"
    }
   ],
   "source": [
    "# пропущенные значения \n",
    "missing_percentages = (train_data[train_data.columns].isnull().sum() / train_data.shape[0]) * 100\n",
    "missing_percentages"
   ]
  },
  {
   "cell_type": "markdown",
   "metadata": {},
   "source": [
    "Поля с пропущенныеми данными в train_data\n",
    "\n",
    "`Age` (3.292% от всех)\n",
    "\n",
    "`Ticket` (4.623%)\n",
    "\n",
    "`Fare` (0.134%)\n",
    "\n",
    "`Cabin` (67.866%)\n",
    "\n",
    "`Embarked` (0.250%)"
   ]
  },
  {
   "cell_type": "code",
   "execution_count": 298,
   "metadata": {},
   "outputs": [
    {
     "data": {
      "text/plain": [
       "Pclass       0.000\n",
       "Name         0.000\n",
       "Sex          0.000\n",
       "Age          3.487\n",
       "SibSp        0.000\n",
       "Parch        0.000\n",
       "Ticket       5.181\n",
       "Fare         0.133\n",
       "Cabin       70.831\n",
       "Embarked     0.277\n",
       "dtype: float64"
      ]
     },
     "execution_count": 298,
     "metadata": {},
     "output_type": "execute_result"
    }
   ],
   "source": [
    "# пропущенные значения \n",
    "missing_percentages = (test_data[test_data.columns].isnull().sum() / test_data.shape[0]) * 100\n",
    "missing_percentages"
   ]
  },
  {
   "cell_type": "markdown",
   "metadata": {},
   "source": [
    "Поля с пропущенныеми данными в test_data\n",
    "\n",
    "`Age` (3.487% от всех)\n",
    "\n",
    "`Ticket` (5.181%)\n",
    "\n",
    "`Fare` (0.133%)\n",
    "\n",
    "`Cabin` (70.831%)\n",
    "\n",
    "`Embarked` (0.277%)"
   ]
  },
  {
   "cell_type": "markdown",
   "metadata": {},
   "source": [
    "Think about the ways to handle these missing values for modelling and write your answer below. Which methods would you suggest? What are their advantages and disadvantages?"
   ]
  },
  {
   "cell_type": "markdown",
   "metadata": {},
   "source": [
    "Как правило недостающие значения можно заполнять средним значением, медианой или модой. Также можно проводить анализ на предмет нахождения закономерностей в значениях признаков (будет описано далее).\n",
    "\n",
    "- `Age` : медианный и средний возраст практически равны: 39.0 и 38.4 соответственно. Пропущенные значения предлагается заполнить медианными значениями;\n",
    "- `Fare` : признак имеет значительное кол-во выбросов. Медиана и среднее составляют 24.5 и 43.9 соответственно. Учитывая зависимость стоимости билета от класса, а также, что % пропущенных значений признака незначительный (0.13%), пропущенные значения предлагается заполнить медианой в зависимости от `Pclass`;\n",
    "- `Embarked` : как указывал выше место посадки большинства пассажиров был Southampton (72 139 или 72.1%), затем Cherbourg (22 187 или 22.2%) и незначительная часть пассажиров села в Queenstown (5 424 или 5.4%). Учитывая, что % пропущенных значений признака незначительный (0.25%) пропущенные значения предлагается заполнить модой;\n",
    "- `Cabine` : В `Cabine` есть законономерность - начинается с ограниченного количества букв, которые могут обозначать номер палубы. Учитывая большое количество пропущенных значений, пропущенные названия кабин в строках могут означать, что пассажирам не была выделена отдельная кабина, а выделена, например, кабина общего пользования. Выживаемость пассажиров \"без кабины\" - значительно ниже чем в кабинах с названием (за исключением кабин, начинающихся с 'A' и 'T'). Пропущенным значениям предлагается присвоить отдельную метку - 'N'.\n",
    "    \n",
    "    ! добавлено новое поле `Cabin_code` как первый символ из `Cabine` (если Nan - 'N')\n",
    "    \n",
    "- `Ticket` : Выявлена зависимость отдельных категорий билетов и уровня выживаемости. \n",
    "    \n",
    "    ! добавлено новые поля `TicketType`, сформированное из значений `Ticket`, и `TT_bucket`, сгруппированное в зависимости от уровня выживаемости"
   ]
  },
  {
   "cell_type": "markdown",
   "metadata": {},
   "source": [
    "**(1.5 points)** Prepare the features and train two models (KNN and Logistic Regression) to predict the survival. Compare the results. Use accuracy as a metric. Don't forget about cross-validation!"
   ]
  },
  {
   "cell_type": "code",
   "execution_count": 299,
   "metadata": {},
   "outputs": [],
   "source": [
    "# начнем все заново, учитывая результаты проведенного выше анализа\n",
    "#объединим датасеты для корректного заполнения пропущенных значений\n",
    "train_data = pd.read_csv(os.path.join(PATH, 'titanic', 'train.csv')).set_index('PassengerId')\n",
    "test_data = pd.read_csv(os.path.join(PATH, 'titanic', 'test.csv')).set_index('PassengerId')\n",
    "dataset = pd.concat([train_data, test_data])\n",
    "#пропущенные значения 'Age' заполним медианой\n",
    "dataset['Age'] = dataset['Age'].fillna(dataset['Age'].median())\n",
    "#пропущенные значения 'Fare' заполним медианой в зависимости от 'Pclass'\n",
    "dataset['Fare'] = dataset.groupby(['Pclass'])['Age'].transform(lambda x: x.fillna(x.median()))\n",
    "#пропущенные значения 'Embarked' заполним модой\n",
    "dataset['Embarked'] = dataset['Embarked'].fillna(dataset['Embarked'].mode()[0])\n",
    "#добавим новое поле Cabin_code как первый символ из Cabine (если Nan - 'N')\n",
    "dataset[\"Cabin_code\"] = dataset[\"Cabin\"].str[0]\n",
    "dataset[\"Cabin_code\"] = dataset[\"Cabin_code\"].fillna(\"N\")\n",
    "#добавлено новые поля TicketType, сформированное из значений Ticket, \n",
    "#и TT_bucket, сгруппированное в зависимости от уровня выживаемости\n",
    "dataset['TicketType'] = dataset.Ticket.fillna('XX')\n",
    "dataset['TicketType'] = dataset.TicketType.map(lambda x:str(x).split()[0] if len(str(x).split()) > 1 else 'XX')\n",
    "dataset['TicketType'] = dataset['TicketType'].str.lower()\n",
    "import re\n",
    "dataset['TicketType'] = dataset.TicketType.map(lambda x: re.sub(\"[^\\w\\s]+\",\"\",x))\n",
    "dataset['TT_bucket'] = dataset.TicketType.map(lambda x: 'c' if x in ['pc','sca3','pp','lp','aq4','as'] else 'a' if x in ['stono', 'stono2', 'sotono2', 'stonoq', 'aq3', 'a'] else 'b' if \\\n",
    "                                             x in ['sotonoq', 'fa', 'ca', 'fcc', 'scow', 'casoton', 'a4', 'a5'] else 'd')"
   ]
  },
  {
   "cell_type": "code",
   "execution_count": 300,
   "metadata": {},
   "outputs": [
    {
     "data": {
      "text/html": [
       "<div>\n",
       "<style scoped>\n",
       "    .dataframe tbody tr th:only-of-type {\n",
       "        vertical-align: middle;\n",
       "    }\n",
       "\n",
       "    .dataframe tbody tr th {\n",
       "        vertical-align: top;\n",
       "    }\n",
       "\n",
       "    .dataframe thead th {\n",
       "        text-align: right;\n",
       "    }\n",
       "</style>\n",
       "<table border=\"1\" class=\"dataframe\">\n",
       "  <thead>\n",
       "    <tr style=\"text-align: right;\">\n",
       "      <th></th>\n",
       "      <th>Survived</th>\n",
       "      <th>Pclass</th>\n",
       "      <th>Name</th>\n",
       "      <th>Sex</th>\n",
       "      <th>Age</th>\n",
       "      <th>SibSp</th>\n",
       "      <th>Parch</th>\n",
       "      <th>Ticket</th>\n",
       "      <th>Fare</th>\n",
       "      <th>Cabin</th>\n",
       "      <th>Embarked</th>\n",
       "      <th>Cabin_code</th>\n",
       "      <th>TicketType</th>\n",
       "      <th>TT_bucket</th>\n",
       "    </tr>\n",
       "    <tr>\n",
       "      <th>PassengerId</th>\n",
       "      <th></th>\n",
       "      <th></th>\n",
       "      <th></th>\n",
       "      <th></th>\n",
       "      <th></th>\n",
       "      <th></th>\n",
       "      <th></th>\n",
       "      <th></th>\n",
       "      <th></th>\n",
       "      <th></th>\n",
       "      <th></th>\n",
       "      <th></th>\n",
       "      <th></th>\n",
       "      <th></th>\n",
       "    </tr>\n",
       "  </thead>\n",
       "  <tbody>\n",
       "    <tr>\n",
       "      <th>0</th>\n",
       "      <td>1.0</td>\n",
       "      <td>1</td>\n",
       "      <td>Oconnor, Frankie</td>\n",
       "      <td>male</td>\n",
       "      <td>31.00</td>\n",
       "      <td>2</td>\n",
       "      <td>0</td>\n",
       "      <td>209245</td>\n",
       "      <td>31.00</td>\n",
       "      <td>C12239</td>\n",
       "      <td>S</td>\n",
       "      <td>C</td>\n",
       "      <td>xx</td>\n",
       "      <td>d</td>\n",
       "    </tr>\n",
       "    <tr>\n",
       "      <th>1</th>\n",
       "      <td>0.0</td>\n",
       "      <td>3</td>\n",
       "      <td>Bryan, Drew</td>\n",
       "      <td>male</td>\n",
       "      <td>31.00</td>\n",
       "      <td>0</td>\n",
       "      <td>0</td>\n",
       "      <td>27323</td>\n",
       "      <td>31.00</td>\n",
       "      <td>NaN</td>\n",
       "      <td>S</td>\n",
       "      <td>N</td>\n",
       "      <td>xx</td>\n",
       "      <td>d</td>\n",
       "    </tr>\n",
       "    <tr>\n",
       "      <th>2</th>\n",
       "      <td>0.0</td>\n",
       "      <td>3</td>\n",
       "      <td>Owens, Kenneth</td>\n",
       "      <td>male</td>\n",
       "      <td>0.33</td>\n",
       "      <td>1</td>\n",
       "      <td>2</td>\n",
       "      <td>CA 457703</td>\n",
       "      <td>0.33</td>\n",
       "      <td>NaN</td>\n",
       "      <td>S</td>\n",
       "      <td>N</td>\n",
       "      <td>ca</td>\n",
       "      <td>b</td>\n",
       "    </tr>\n",
       "    <tr>\n",
       "      <th>3</th>\n",
       "      <td>0.0</td>\n",
       "      <td>3</td>\n",
       "      <td>Kramer, James</td>\n",
       "      <td>male</td>\n",
       "      <td>19.00</td>\n",
       "      <td>0</td>\n",
       "      <td>0</td>\n",
       "      <td>A. 10866</td>\n",
       "      <td>19.00</td>\n",
       "      <td>NaN</td>\n",
       "      <td>S</td>\n",
       "      <td>N</td>\n",
       "      <td>a</td>\n",
       "      <td>a</td>\n",
       "    </tr>\n",
       "    <tr>\n",
       "      <th>4</th>\n",
       "      <td>1.0</td>\n",
       "      <td>3</td>\n",
       "      <td>Bond, Michael</td>\n",
       "      <td>male</td>\n",
       "      <td>25.00</td>\n",
       "      <td>0</td>\n",
       "      <td>0</td>\n",
       "      <td>427635</td>\n",
       "      <td>25.00</td>\n",
       "      <td>NaN</td>\n",
       "      <td>S</td>\n",
       "      <td>N</td>\n",
       "      <td>xx</td>\n",
       "      <td>d</td>\n",
       "    </tr>\n",
       "    <tr>\n",
       "      <th>...</th>\n",
       "      <td>...</td>\n",
       "      <td>...</td>\n",
       "      <td>...</td>\n",
       "      <td>...</td>\n",
       "      <td>...</td>\n",
       "      <td>...</td>\n",
       "      <td>...</td>\n",
       "      <td>...</td>\n",
       "      <td>...</td>\n",
       "      <td>...</td>\n",
       "      <td>...</td>\n",
       "      <td>...</td>\n",
       "      <td>...</td>\n",
       "      <td>...</td>\n",
       "    </tr>\n",
       "    <tr>\n",
       "      <th>99995</th>\n",
       "      <td>1.0</td>\n",
       "      <td>2</td>\n",
       "      <td>Bell, Adele</td>\n",
       "      <td>female</td>\n",
       "      <td>62.00</td>\n",
       "      <td>0</td>\n",
       "      <td>0</td>\n",
       "      <td>PC 15008</td>\n",
       "      <td>62.00</td>\n",
       "      <td>D17243</td>\n",
       "      <td>C</td>\n",
       "      <td>D</td>\n",
       "      <td>pc</td>\n",
       "      <td>c</td>\n",
       "    </tr>\n",
       "    <tr>\n",
       "      <th>99996</th>\n",
       "      <td>0.0</td>\n",
       "      <td>2</td>\n",
       "      <td>Brown, Herman</td>\n",
       "      <td>male</td>\n",
       "      <td>66.00</td>\n",
       "      <td>0</td>\n",
       "      <td>0</td>\n",
       "      <td>13273</td>\n",
       "      <td>66.00</td>\n",
       "      <td>NaN</td>\n",
       "      <td>S</td>\n",
       "      <td>N</td>\n",
       "      <td>xx</td>\n",
       "      <td>d</td>\n",
       "    </tr>\n",
       "    <tr>\n",
       "      <th>99997</th>\n",
       "      <td>0.0</td>\n",
       "      <td>3</td>\n",
       "      <td>Childress, Charles</td>\n",
       "      <td>male</td>\n",
       "      <td>37.00</td>\n",
       "      <td>0</td>\n",
       "      <td>0</td>\n",
       "      <td>NaN</td>\n",
       "      <td>37.00</td>\n",
       "      <td>NaN</td>\n",
       "      <td>S</td>\n",
       "      <td>N</td>\n",
       "      <td>xx</td>\n",
       "      <td>d</td>\n",
       "    </tr>\n",
       "    <tr>\n",
       "      <th>99998</th>\n",
       "      <td>0.0</td>\n",
       "      <td>3</td>\n",
       "      <td>Caughlin, Thomas</td>\n",
       "      <td>male</td>\n",
       "      <td>51.00</td>\n",
       "      <td>0</td>\n",
       "      <td>1</td>\n",
       "      <td>458654</td>\n",
       "      <td>51.00</td>\n",
       "      <td>NaN</td>\n",
       "      <td>S</td>\n",
       "      <td>N</td>\n",
       "      <td>xx</td>\n",
       "      <td>d</td>\n",
       "    </tr>\n",
       "    <tr>\n",
       "      <th>99999</th>\n",
       "      <td>0.0</td>\n",
       "      <td>3</td>\n",
       "      <td>Enciso, Tyler</td>\n",
       "      <td>male</td>\n",
       "      <td>55.00</td>\n",
       "      <td>0</td>\n",
       "      <td>0</td>\n",
       "      <td>458074</td>\n",
       "      <td>55.00</td>\n",
       "      <td>NaN</td>\n",
       "      <td>S</td>\n",
       "      <td>N</td>\n",
       "      <td>xx</td>\n",
       "      <td>d</td>\n",
       "    </tr>\n",
       "  </tbody>\n",
       "</table>\n",
       "<p>100000 rows × 14 columns</p>\n",
       "</div>"
      ],
      "text/plain": [
       "             Survived  Pclass                Name     Sex    Age  SibSp  \\\n",
       "PassengerId                                                               \n",
       "0                 1.0       1    Oconnor, Frankie    male  31.00      2   \n",
       "1                 0.0       3         Bryan, Drew    male  31.00      0   \n",
       "2                 0.0       3      Owens, Kenneth    male   0.33      1   \n",
       "3                 0.0       3       Kramer, James    male  19.00      0   \n",
       "4                 1.0       3       Bond, Michael    male  25.00      0   \n",
       "...               ...     ...                 ...     ...    ...    ...   \n",
       "99995             1.0       2         Bell, Adele  female  62.00      0   \n",
       "99996             0.0       2       Brown, Herman    male  66.00      0   \n",
       "99997             0.0       3  Childress, Charles    male  37.00      0   \n",
       "99998             0.0       3    Caughlin, Thomas    male  51.00      0   \n",
       "99999             0.0       3       Enciso, Tyler    male  55.00      0   \n",
       "\n",
       "             Parch     Ticket   Fare   Cabin Embarked Cabin_code TicketType  \\\n",
       "PassengerId                                                                   \n",
       "0                0     209245  31.00  C12239        S          C         xx   \n",
       "1                0      27323  31.00     NaN        S          N         xx   \n",
       "2                2  CA 457703   0.33     NaN        S          N         ca   \n",
       "3                0   A. 10866  19.00     NaN        S          N          a   \n",
       "4                0     427635  25.00     NaN        S          N         xx   \n",
       "...            ...        ...    ...     ...      ...        ...        ...   \n",
       "99995            0   PC 15008  62.00  D17243        C          D         pc   \n",
       "99996            0      13273  66.00     NaN        S          N         xx   \n",
       "99997            0        NaN  37.00     NaN        S          N         xx   \n",
       "99998            1     458654  51.00     NaN        S          N         xx   \n",
       "99999            0     458074  55.00     NaN        S          N         xx   \n",
       "\n",
       "            TT_bucket  \n",
       "PassengerId            \n",
       "0                   d  \n",
       "1                   d  \n",
       "2                   b  \n",
       "3                   a  \n",
       "4                   d  \n",
       "...               ...  \n",
       "99995               c  \n",
       "99996               d  \n",
       "99997               d  \n",
       "99998               d  \n",
       "99999               d  \n",
       "\n",
       "[100000 rows x 14 columns]"
      ]
     },
     "execution_count": 300,
     "metadata": {},
     "output_type": "execute_result"
    }
   ],
   "source": [
    "# разобъем обратно на train и test\n",
    "train_data = dataset[:100000]\n",
    "test_data = dataset[100000:]\n",
    "train_data"
   ]
  },
  {
   "cell_type": "code",
   "execution_count": 301,
   "metadata": {},
   "outputs": [],
   "source": [
    "#определим колонки которые надо стандартизировать (числовые) и которые (категориальные) нужно привести в вид для читаемости моделью\n",
    "target_col = 'Survived'\n",
    "num_cols = ['Age','Fare']\n",
    "cat_cols = ['Sex', 'Pclass','TT_bucket', 'Embarked','Cabin_code','SibSp', 'Parch']\n",
    "num, cat = StandardScaler(), OneHotEncoder(handle_unknown='ignore')\n",
    "pre = ColumnTransformer([('num', num, num_cols), ('cat', cat, cat_cols)])\n",
    "#создадим модели\n",
    "log_model = Pipeline([('pre', pre), ('clf', LogisticRegression(C=0.15, max_iter=1000, random_state=42))])\n",
    "knn_model = Pipeline([('pre', pre), ('clf', KNeighborsClassifier(n_neighbors=12))])"
   ]
  },
  {
   "cell_type": "code",
   "execution_count": 302,
   "metadata": {},
   "outputs": [
    {
     "name": "stdout",
     "output_type": "stream",
     "text": [
      "LogisticRegression model accuracy: 0.77477\n",
      "LogisticRegression model cross validate score (mean): 0.7748999999999999\n"
     ]
    }
   ],
   "source": [
    "#результаты LogisticRegression, в том числе с кросс-валидацией\n",
    "X, y = train_data[num_cols + cat_cols], train_data[target_col]\n",
    "k_fold = KFold(n_splits=5, shuffle=True, random_state=42)\n",
    "print( f'LogisticRegression model accuracy: {accuracy_score(y, log_model.fit(X=X, y=y).predict(X))}')\n",
    "print( f'LogisticRegression model cross validate score (mean): {cross_validate(log_model, X, y, cv=k_fold)[\"test_score\"].mean()}')"
   ]
  },
  {
   "cell_type": "code",
   "execution_count": 303,
   "metadata": {},
   "outputs": [
    {
     "name": "stdout",
     "output_type": "stream",
     "text": [
      "KNeighborsClassifier model accuracy: 0.79011\n",
      "KNeighborsClassifier model cross validate score (mean): 0.76723\n"
     ]
    }
   ],
   "source": [
    "#результаты KNeighborsClassifier, в том числе с кросс-валидацией\n",
    "print( f'KNeighborsClassifier model accuracy: {accuracy_score(y, knn_model.fit(X=X, y=y).predict(X))}')\n",
    "print( f'KNeighborsClassifier model cross validate score (mean): {cross_validate(knn_model, X, y, cv=k_fold)[\"test_score\"].mean()}')"
   ]
  },
  {
   "cell_type": "markdown",
   "metadata": {},
   "source": [
    "**(0.5 + X points)** Try more feature engineering and hyperparameter tuning to improve the results. You may use either KNN or Logistic Regression (or both)."
   ]
  },
  {
   "cell_type": "code",
   "execution_count": 304,
   "metadata": {},
   "outputs": [],
   "source": [
    "#Попробуем повысить score путем добавления/группировки признаков\n",
    "#Объединим 'SibSp' и 'Parch' как родственный признак\n",
    "dataset['Family'] = dataset['SibSp'] + dataset['Parch']\n",
    "#Выделим отдельно кто путешествовал один\n",
    "dataset['AloneCode'] = LabelEncoder().fit_transform(dataset['Family'] == 0)"
   ]
  },
  {
   "cell_type": "code",
   "execution_count": 305,
   "metadata": {},
   "outputs": [
    {
     "data": {
      "text/html": [
       "<div>\n",
       "<style scoped>\n",
       "    .dataframe tbody tr th:only-of-type {\n",
       "        vertical-align: middle;\n",
       "    }\n",
       "\n",
       "    .dataframe tbody tr th {\n",
       "        vertical-align: top;\n",
       "    }\n",
       "\n",
       "    .dataframe thead th {\n",
       "        text-align: right;\n",
       "    }\n",
       "</style>\n",
       "<table border=\"1\" class=\"dataframe\">\n",
       "  <thead>\n",
       "    <tr style=\"text-align: right;\">\n",
       "      <th></th>\n",
       "      <th>Survived</th>\n",
       "      <th>Pclass</th>\n",
       "      <th>Name</th>\n",
       "      <th>Sex</th>\n",
       "      <th>Age</th>\n",
       "      <th>SibSp</th>\n",
       "      <th>Parch</th>\n",
       "      <th>Ticket</th>\n",
       "      <th>Fare</th>\n",
       "      <th>Cabin</th>\n",
       "      <th>Embarked</th>\n",
       "      <th>Cabin_code</th>\n",
       "      <th>TicketType</th>\n",
       "      <th>TT_bucket</th>\n",
       "      <th>Family</th>\n",
       "      <th>AloneCode</th>\n",
       "    </tr>\n",
       "    <tr>\n",
       "      <th>PassengerId</th>\n",
       "      <th></th>\n",
       "      <th></th>\n",
       "      <th></th>\n",
       "      <th></th>\n",
       "      <th></th>\n",
       "      <th></th>\n",
       "      <th></th>\n",
       "      <th></th>\n",
       "      <th></th>\n",
       "      <th></th>\n",
       "      <th></th>\n",
       "      <th></th>\n",
       "      <th></th>\n",
       "      <th></th>\n",
       "      <th></th>\n",
       "      <th></th>\n",
       "    </tr>\n",
       "  </thead>\n",
       "  <tbody>\n",
       "    <tr>\n",
       "      <th>0</th>\n",
       "      <td>1.0</td>\n",
       "      <td>1</td>\n",
       "      <td>Oconnor, Frankie</td>\n",
       "      <td>male</td>\n",
       "      <td>31.00</td>\n",
       "      <td>2</td>\n",
       "      <td>0</td>\n",
       "      <td>209245</td>\n",
       "      <td>31.00</td>\n",
       "      <td>C12239</td>\n",
       "      <td>S</td>\n",
       "      <td>C</td>\n",
       "      <td>xx</td>\n",
       "      <td>d</td>\n",
       "      <td>2</td>\n",
       "      <td>0</td>\n",
       "    </tr>\n",
       "    <tr>\n",
       "      <th>1</th>\n",
       "      <td>0.0</td>\n",
       "      <td>3</td>\n",
       "      <td>Bryan, Drew</td>\n",
       "      <td>male</td>\n",
       "      <td>31.00</td>\n",
       "      <td>0</td>\n",
       "      <td>0</td>\n",
       "      <td>27323</td>\n",
       "      <td>31.00</td>\n",
       "      <td>NaN</td>\n",
       "      <td>S</td>\n",
       "      <td>N</td>\n",
       "      <td>xx</td>\n",
       "      <td>d</td>\n",
       "      <td>0</td>\n",
       "      <td>1</td>\n",
       "    </tr>\n",
       "    <tr>\n",
       "      <th>2</th>\n",
       "      <td>0.0</td>\n",
       "      <td>3</td>\n",
       "      <td>Owens, Kenneth</td>\n",
       "      <td>male</td>\n",
       "      <td>0.33</td>\n",
       "      <td>1</td>\n",
       "      <td>2</td>\n",
       "      <td>CA 457703</td>\n",
       "      <td>0.33</td>\n",
       "      <td>NaN</td>\n",
       "      <td>S</td>\n",
       "      <td>N</td>\n",
       "      <td>ca</td>\n",
       "      <td>b</td>\n",
       "      <td>3</td>\n",
       "      <td>0</td>\n",
       "    </tr>\n",
       "    <tr>\n",
       "      <th>3</th>\n",
       "      <td>0.0</td>\n",
       "      <td>3</td>\n",
       "      <td>Kramer, James</td>\n",
       "      <td>male</td>\n",
       "      <td>19.00</td>\n",
       "      <td>0</td>\n",
       "      <td>0</td>\n",
       "      <td>A. 10866</td>\n",
       "      <td>19.00</td>\n",
       "      <td>NaN</td>\n",
       "      <td>S</td>\n",
       "      <td>N</td>\n",
       "      <td>a</td>\n",
       "      <td>a</td>\n",
       "      <td>0</td>\n",
       "      <td>1</td>\n",
       "    </tr>\n",
       "    <tr>\n",
       "      <th>4</th>\n",
       "      <td>1.0</td>\n",
       "      <td>3</td>\n",
       "      <td>Bond, Michael</td>\n",
       "      <td>male</td>\n",
       "      <td>25.00</td>\n",
       "      <td>0</td>\n",
       "      <td>0</td>\n",
       "      <td>427635</td>\n",
       "      <td>25.00</td>\n",
       "      <td>NaN</td>\n",
       "      <td>S</td>\n",
       "      <td>N</td>\n",
       "      <td>xx</td>\n",
       "      <td>d</td>\n",
       "      <td>0</td>\n",
       "      <td>1</td>\n",
       "    </tr>\n",
       "    <tr>\n",
       "      <th>...</th>\n",
       "      <td>...</td>\n",
       "      <td>...</td>\n",
       "      <td>...</td>\n",
       "      <td>...</td>\n",
       "      <td>...</td>\n",
       "      <td>...</td>\n",
       "      <td>...</td>\n",
       "      <td>...</td>\n",
       "      <td>...</td>\n",
       "      <td>...</td>\n",
       "      <td>...</td>\n",
       "      <td>...</td>\n",
       "      <td>...</td>\n",
       "      <td>...</td>\n",
       "      <td>...</td>\n",
       "      <td>...</td>\n",
       "    </tr>\n",
       "    <tr>\n",
       "      <th>99995</th>\n",
       "      <td>1.0</td>\n",
       "      <td>2</td>\n",
       "      <td>Bell, Adele</td>\n",
       "      <td>female</td>\n",
       "      <td>62.00</td>\n",
       "      <td>0</td>\n",
       "      <td>0</td>\n",
       "      <td>PC 15008</td>\n",
       "      <td>62.00</td>\n",
       "      <td>D17243</td>\n",
       "      <td>C</td>\n",
       "      <td>D</td>\n",
       "      <td>pc</td>\n",
       "      <td>c</td>\n",
       "      <td>0</td>\n",
       "      <td>1</td>\n",
       "    </tr>\n",
       "    <tr>\n",
       "      <th>99996</th>\n",
       "      <td>0.0</td>\n",
       "      <td>2</td>\n",
       "      <td>Brown, Herman</td>\n",
       "      <td>male</td>\n",
       "      <td>66.00</td>\n",
       "      <td>0</td>\n",
       "      <td>0</td>\n",
       "      <td>13273</td>\n",
       "      <td>66.00</td>\n",
       "      <td>NaN</td>\n",
       "      <td>S</td>\n",
       "      <td>N</td>\n",
       "      <td>xx</td>\n",
       "      <td>d</td>\n",
       "      <td>0</td>\n",
       "      <td>1</td>\n",
       "    </tr>\n",
       "    <tr>\n",
       "      <th>99997</th>\n",
       "      <td>0.0</td>\n",
       "      <td>3</td>\n",
       "      <td>Childress, Charles</td>\n",
       "      <td>male</td>\n",
       "      <td>37.00</td>\n",
       "      <td>0</td>\n",
       "      <td>0</td>\n",
       "      <td>NaN</td>\n",
       "      <td>37.00</td>\n",
       "      <td>NaN</td>\n",
       "      <td>S</td>\n",
       "      <td>N</td>\n",
       "      <td>xx</td>\n",
       "      <td>d</td>\n",
       "      <td>0</td>\n",
       "      <td>1</td>\n",
       "    </tr>\n",
       "    <tr>\n",
       "      <th>99998</th>\n",
       "      <td>0.0</td>\n",
       "      <td>3</td>\n",
       "      <td>Caughlin, Thomas</td>\n",
       "      <td>male</td>\n",
       "      <td>51.00</td>\n",
       "      <td>0</td>\n",
       "      <td>1</td>\n",
       "      <td>458654</td>\n",
       "      <td>51.00</td>\n",
       "      <td>NaN</td>\n",
       "      <td>S</td>\n",
       "      <td>N</td>\n",
       "      <td>xx</td>\n",
       "      <td>d</td>\n",
       "      <td>1</td>\n",
       "      <td>0</td>\n",
       "    </tr>\n",
       "    <tr>\n",
       "      <th>99999</th>\n",
       "      <td>0.0</td>\n",
       "      <td>3</td>\n",
       "      <td>Enciso, Tyler</td>\n",
       "      <td>male</td>\n",
       "      <td>55.00</td>\n",
       "      <td>0</td>\n",
       "      <td>0</td>\n",
       "      <td>458074</td>\n",
       "      <td>55.00</td>\n",
       "      <td>NaN</td>\n",
       "      <td>S</td>\n",
       "      <td>N</td>\n",
       "      <td>xx</td>\n",
       "      <td>d</td>\n",
       "      <td>0</td>\n",
       "      <td>1</td>\n",
       "    </tr>\n",
       "  </tbody>\n",
       "</table>\n",
       "<p>100000 rows × 16 columns</p>\n",
       "</div>"
      ],
      "text/plain": [
       "             Survived  Pclass                Name     Sex    Age  SibSp  \\\n",
       "PassengerId                                                               \n",
       "0                 1.0       1    Oconnor, Frankie    male  31.00      2   \n",
       "1                 0.0       3         Bryan, Drew    male  31.00      0   \n",
       "2                 0.0       3      Owens, Kenneth    male   0.33      1   \n",
       "3                 0.0       3       Kramer, James    male  19.00      0   \n",
       "4                 1.0       3       Bond, Michael    male  25.00      0   \n",
       "...               ...     ...                 ...     ...    ...    ...   \n",
       "99995             1.0       2         Bell, Adele  female  62.00      0   \n",
       "99996             0.0       2       Brown, Herman    male  66.00      0   \n",
       "99997             0.0       3  Childress, Charles    male  37.00      0   \n",
       "99998             0.0       3    Caughlin, Thomas    male  51.00      0   \n",
       "99999             0.0       3       Enciso, Tyler    male  55.00      0   \n",
       "\n",
       "             Parch     Ticket   Fare   Cabin Embarked Cabin_code TicketType  \\\n",
       "PassengerId                                                                   \n",
       "0                0     209245  31.00  C12239        S          C         xx   \n",
       "1                0      27323  31.00     NaN        S          N         xx   \n",
       "2                2  CA 457703   0.33     NaN        S          N         ca   \n",
       "3                0   A. 10866  19.00     NaN        S          N          a   \n",
       "4                0     427635  25.00     NaN        S          N         xx   \n",
       "...            ...        ...    ...     ...      ...        ...        ...   \n",
       "99995            0   PC 15008  62.00  D17243        C          D         pc   \n",
       "99996            0      13273  66.00     NaN        S          N         xx   \n",
       "99997            0        NaN  37.00     NaN        S          N         xx   \n",
       "99998            1     458654  51.00     NaN        S          N         xx   \n",
       "99999            0     458074  55.00     NaN        S          N         xx   \n",
       "\n",
       "            TT_bucket  Family  AloneCode  \n",
       "PassengerId                               \n",
       "0                   d       2          0  \n",
       "1                   d       0          1  \n",
       "2                   b       3          0  \n",
       "3                   a       0          1  \n",
       "4                   d       0          1  \n",
       "...               ...     ...        ...  \n",
       "99995               c       0          1  \n",
       "99996               d       0          1  \n",
       "99997               d       0          1  \n",
       "99998               d       1          0  \n",
       "99999               d       0          1  \n",
       "\n",
       "[100000 rows x 16 columns]"
      ]
     },
     "execution_count": 305,
     "metadata": {},
     "output_type": "execute_result"
    }
   ],
   "source": [
    "# разобъем обратно на train и test\n",
    "train_data = dataset[:100000]\n",
    "test_data = dataset[100000:]\n",
    "train_data"
   ]
  },
  {
   "cell_type": "code",
   "execution_count": 306,
   "metadata": {},
   "outputs": [],
   "source": [
    "# аналогично определяем колонки\n",
    "target_col = 'Survived'\n",
    "num_cols = ['Age','Fare']\n",
    "cat_cols = ['Sex', 'Pclass','TT_bucket', 'Embarked','Cabin_code', 'Family', 'AloneCode']\n",
    "num, cat = StandardScaler(), OneHotEncoder(handle_unknown='ignore')\n",
    "pre = ColumnTransformer([('num', num, num_cols), ('cat', cat, cat_cols)])\n",
    "log_model = Pipeline([('pre', pre), ('clf', LogisticRegression(C=0.15, max_iter=1000, random_state=42))])\n",
    "knn_model = Pipeline([('pre', pre), ('clf', KNeighborsClassifier(n_neighbors=12))])"
   ]
  },
  {
   "cell_type": "code",
   "execution_count": 307,
   "metadata": {},
   "outputs": [
    {
     "name": "stdout",
     "output_type": "stream",
     "text": [
      "LogisticRegression model accuracy: 0.77491\n",
      "LogisticRegression model cross validate score (mean): 0.7747299999999999\n"
     ]
    }
   ],
   "source": [
    "#стало немного лучше без кросс-валидации и немного хуже с ней\n",
    "X, y = train_data[num_cols + cat_cols], train_data[target_col]\n",
    "k_fold = KFold(n_splits=5, shuffle=True, random_state=42)\n",
    "print( f'LogisticRegression model accuracy: {accuracy_score(y, log_model.fit(X=X, y=y).predict(X))}')\n",
    "print( f'LogisticRegression model cross validate score (mean): {cross_validate(log_model, X, y, cv=k_fold)[\"test_score\"].mean()}')"
   ]
  },
  {
   "cell_type": "code",
   "execution_count": 308,
   "metadata": {},
   "outputs": [
    {
     "name": "stdout",
     "output_type": "stream",
     "text": [
      "KNeighborsClassifier model accuracy: 0.78578\n",
      "KNeighborsClassifier model cross validate score (mean): 0.76753\n"
     ]
    }
   ],
   "source": [
    "#на этой модели результаты немного хуже\n",
    "print( f'KNeighborsClassifier model accuracy: {accuracy_score(y, knn_model.fit(X=X, y=y).predict(X))}')\n",
    "print( f'KNeighborsClassifier model cross validate score (mean): {cross_validate(knn_model, X, y, cv=k_fold)[\"test_score\"].mean()}')"
   ]
  },
  {
   "cell_type": "markdown",
   "metadata": {},
   "source": [
    "Select the best model, load the test set and make the predictions. Submit them to kaggle and see the results :)\n",
    "\n",
    "**Note**. X points will depend on your kaggle public leaderboard score.\n",
    "$$ f(score) = 1.0, \\ \\ 0.79 \\leq score < 0.80,$$\n",
    "$$ f(score) = 2.5, \\ \\ 0.80 \\leq score < 0.81,$$ \n",
    "$$ f(score) = 4.0, \\ \\ 0.81 \\leq score $$ \n",
    "Your code should generate the output submitted to kaggle. Fix random seeds to make the results reproducible."
   ]
  },
  {
   "cell_type": "code",
   "execution_count": 309,
   "metadata": {},
   "outputs": [],
   "source": [
    "# в итоге я отдельно комбинировал признаки и лучший score показала эта комбинация с LogisticRegression\n",
    "# долго не мог пробить отметку score в 80%\n",
    "# Потом немного расширил границы  'TT_bucket' для группировки и в итоге получил выше 80%\n",
    "\n",
    "target_col = 'Survived'\n",
    "num_cols = ['Age','Fare']\n",
    "cat_cols = ['Sex','Pclass','TT_bucket','Cabin_code', 'AloneCode']\n",
    "num, cat = StandardScaler(), OneHotEncoder(handle_unknown='ignore')\n",
    "pre = ColumnTransformer([('num', num, num_cols), ('cat', cat, cat_cols)])\n",
    "#создадим модели\n",
    "log_model = Pipeline([('pre', pre), ('clf', LogisticRegression(C=0.15, max_iter=1000, random_state=42))])\n",
    "knn_model = Pipeline([('pre', pre), ('clf', KNeighborsClassifier(n_neighbors=12))])"
   ]
  },
  {
   "cell_type": "code",
   "execution_count": 310,
   "metadata": {},
   "outputs": [],
   "source": [
    "log_model.fit(train_data[num_cols + cat_cols], train_data[target_col]);"
   ]
  },
  {
   "cell_type": "code",
   "execution_count": 311,
   "metadata": {},
   "outputs": [],
   "source": [
    "result = pd.DataFrame()\n",
    "test = pd.read_csv(os.path.join(PATH, 'titanic', 'test.csv'))\n",
    "result['PassengerId'] = test.PassengerId\n",
    "result['Survived'] = log_model.predict(test_data[num_cols + cat_cols])\n",
    "result.to_csv('titanic/my_result.csv', index=False)"
   ]
  },
  {
   "cell_type": "code",
   "execution_count": 316,
   "metadata": {},
   "outputs": [
    {
     "data": {
      "image/png": "[encoded data removed]",
      "text/plain": [
       "<IPython.core.display.Image object>"
      ]
     },
     "execution_count": 316,
     "metadata": {},
     "output_type": "execute_result"
    }
   ],
   "source": [
    "from IPython.display import Image\n",
    "Image('Снимок.png')"
   ]
  },
  {
   "cell_type": "code",
   "execution_count": null,
   "metadata": {},
   "outputs": [],
   "source": []
  }
 ],
 "metadata": {
  "kernelspec": {
   "display_name": "Python 3 (ipykernel)",
   "language": "python",
   "name": "python3"
  },
  "language_info": {
   "codemirror_mode": {
    "name": "ipython",
    "version": 3
   },
   "file_extension": ".py",
   "mimetype": "text/x-python",
   "name": "python",
   "nbconvert_exporter": "python",
   "pygments_lexer": "ipython3",
   "version": "3.9.12"
  }
 },
 "nbformat": 4,
 "nbformat_minor": 4
}
